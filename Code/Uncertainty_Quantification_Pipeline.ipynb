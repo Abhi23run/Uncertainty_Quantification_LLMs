{
  "cells": [
    {
      "cell_type": "markdown",
      "metadata": {
        "id": "view-in-github",
        "colab_type": "text"
      },
      "source": [
        "<a href=\"https://colab.research.google.com/github/Abhi23run/Uncertainty_Quantification_LLMs/blob/main/Code/Uncertainty_Quantification_Pipeline.ipynb\" target=\"_parent\"><img src=\"https://colab.research.google.com/assets/colab-badge.svg\" alt=\"Open In Colab\"/></a>"
      ]
    },
    {
      "cell_type": "code",
      "execution_count": 1,
      "metadata": {
        "colab": {
          "base_uri": "https://localhost:8080/"
        },
        "id": "vPon4BivZaqV",
        "outputId": "f12928e0-22d0-443d-beff-7a249137265d"
      },
      "outputs": [
        {
          "output_type": "stream",
          "name": "stdout",
          "text": [
            "Drive already mounted at /content/drive; to attempt to forcibly remount, call drive.mount(\"/content/drive\", force_remount=True).\n"
          ]
        }
      ],
      "source": [
        "from google.colab import drive\n",
        "drive.mount('/content/drive')"
      ]
    },
    {
      "cell_type": "code",
      "execution_count": 2,
      "metadata": {
        "colab": {
          "base_uri": "https://localhost:8080/"
        },
        "id": "o_Do2ZyyOcLv",
        "outputId": "88e87448-800f-4fe7-9d41-5b6908d4f01f"
      },
      "outputs": [
        {
          "output_type": "stream",
          "name": "stdout",
          "text": [
            "drive  sample_data\n"
          ]
        }
      ],
      "source": [
        "!ls"
      ]
    },
    {
      "cell_type": "code",
      "execution_count": 3,
      "metadata": {
        "id": "6lVGI5sDZcj8"
      },
      "outputs": [],
      "source": [
        "import os\n",
        "dir_path = '/content/drive/MyDrive/Uncertainty_Quantification_LLMs'\n",
        "os.chdir(dir_path)"
      ]
    },
    {
      "cell_type": "markdown",
      "metadata": {
        "id": "2wJAkHZLZN2U"
      },
      "source": [
        "Install the required libraries"
      ]
    },
    {
      "cell_type": "code",
      "execution_count": 4,
      "metadata": {
        "id": "C2DHgBnsZJJn"
      },
      "outputs": [],
      "source": [
        "%%capture\n",
        "!pip install -q -U bitsandbytes\n",
        "!pip install -q -U git+https://github.com/huggingface/transformers.git\n",
        "!pip install -q -U git+https://github.com/huggingface/peft.git\n",
        "!pip install -q -U git+https://github.com/huggingface/accelerate.git\n",
        "!pip install -q datasets\n",
        "!pip install evaluate\n",
        "!pip install -qqq trl==0.7.1\n",
        "!pip install torch"
      ]
    },
    {
      "cell_type": "code",
      "execution_count": 5,
      "metadata": {
        "id": "7plOCteCZf9s"
      },
      "outputs": [],
      "source": [
        "import torch\n",
        "import gc\n",
        "import time\n",
        "import evaluate\n",
        "import pandas as pd\n",
        "import numpy as np\n",
        "import scipy.stats as stats\n",
        "import matplotlib.pyplot as plt\n",
        "import seaborn as sns\n",
        "from datasets import Dataset, load_dataset\n",
        "import random\n",
        "from transformers import AutoTokenizer, AutoModelForCausalLM, BitsAndBytesConfig"
      ]
    },
    {
      "cell_type": "markdown",
      "metadata": {
        "id": "wWokGoGVZkEe"
      },
      "source": [
        "Create the features for stress index"
      ]
    },
    {
      "cell_type": "code",
      "execution_count": null,
      "metadata": {
        "id": "3YKR9r9PkDwl"
      },
      "outputs": [],
      "source": [
        "def simulate_data(num_samples):\n",
        "  # Define parameters for each distribution\n",
        "  np.random.seed(0)\n",
        "\n",
        "  # Generate synthetic data\n",
        "  data = {\n",
        "      'news_sentiment': stats.beta.rvs(a=2, b=2, loc=-1, scale=2, size=num_samples),\n",
        "      'broker_count_imbalance': stats.beta.rvs(a=2, b=2, loc=-1, scale=2, size=num_samples),\n",
        "      'volume_indicator': stats.beta.rvs(a=2, b=2, loc=-1, scale=2, size=num_samples),\n",
        "      'benchmark_price_difference': stats.beta.rvs(a=2, b=2, loc=-1, scale=2, size=num_samples),\n",
        "      'trade_count_imbalance': stats.beta.rvs(a=2, b=2, loc=-1, scale=2, size=num_samples),\n",
        "      'one_sided_trade_indicator': stats.beta.rvs(a=2, b=2, loc=-1, scale=2, size=num_samples),\n",
        "      'tranche_size_indicator': stats.beta.rvs(a=2, b=2, loc=0, scale=1, size=num_samples)\n",
        "  }\n",
        "\n",
        "  # Create DataFrame\n",
        "  df = pd.DataFrame(data)\n",
        "  return df"
      ]
    },
    {
      "cell_type": "code",
      "execution_count": null,
      "metadata": {
        "id": "aMyw2g8_N1_S"
      },
      "outputs": [],
      "source": [
        "df = simulate_data(5000)"
      ]
    },
    {
      "cell_type": "code",
      "execution_count": null,
      "metadata": {
        "id": "lcuvWZ4fZuNH"
      },
      "outputs": [],
      "source": [
        "df.to_csv('./data_simulated.csv', index=False)"
      ]
    },
    {
      "cell_type": "code",
      "execution_count": 6,
      "metadata": {
        "id": "-Mk1KiARN1_S"
      },
      "outputs": [],
      "source": [
        "df = pd.read_csv('./Data/data_simulated.csv', index_col=False)"
      ]
    },
    {
      "cell_type": "markdown",
      "metadata": {
        "id": "Rk9S8wa8dkAa"
      },
      "source": [
        "Created the stress index using ChatGPT and populated as a column in the above dataframe"
      ]
    },
    {
      "cell_type": "code",
      "execution_count": 6,
      "metadata": {
        "id": "Epq7EnAHZuuN"
      },
      "outputs": [],
      "source": [
        "df_stress_index = pd.read_csv('./Data/data_with_stress_index.csv',usecols=lambda col:col not in ['Unnamed: 0'])"
      ]
    },
    {
      "cell_type": "markdown",
      "metadata": {
        "id": "9zLD-gMyeMFi"
      },
      "source": [
        "Creating the stress index buckets to model as a classification task"
      ]
    },
    {
      "cell_type": "code",
      "execution_count": 7,
      "metadata": {
        "id": "exfS6JFveWhN"
      },
      "outputs": [],
      "source": [
        "n_bins = 10\n",
        "bin_width = 1/n_bins"
      ]
    },
    {
      "cell_type": "code",
      "execution_count": 8,
      "metadata": {
        "id": "9rz_0VA1eBbo"
      },
      "outputs": [],
      "source": [
        "df_stress_index.loc[:,'stress_index_bucket']=pd.cut(df_stress_index['stress_index'],\\\n",
        "                                                    bins=n_bins,\\\n",
        "                                                    labels=[str(np.round(x,1))+'-'+str(np.round(x+bin_width,1)) \\\n",
        "                                                            for x in np.arange(0,1,bin_width)])"
      ]
    },
    {
      "cell_type": "code",
      "execution_count": 9,
      "metadata": {
        "colab": {
          "base_uri": "https://localhost:8080/",
          "height": 226
        },
        "id": "kjEIp36veT2Z",
        "outputId": "cbb1e9f1-45ba-4743-a18b-809ff218eb3b"
      },
      "outputs": [
        {
          "output_type": "execute_result",
          "data": {
            "text/plain": [
              "   news_sentiment  broker_count_imbalance  volume_indicator  \\\n",
              "0        0.393144                0.124362          0.677889   \n",
              "1        0.772496                0.369376         -0.877238   \n",
              "2       -0.189353                0.190013         -0.485352   \n",
              "3        0.219090               -0.577930          0.876170   \n",
              "4        0.038766                0.474529          0.345526   \n",
              "\n",
              "   benchmark_price_difference  trade_count_imbalance  \\\n",
              "0                    0.497776              -0.720698   \n",
              "1                    0.139748               0.851864   \n",
              "2                   -0.364914              -0.183833   \n",
              "3                    0.495462               0.182495   \n",
              "4                   -0.153370              -0.020692   \n",
              "\n",
              "   one_sided_trade_indicator  tranche_size_indicator  stress_index  \\\n",
              "0                  -0.680076                0.724869      0.551515   \n",
              "1                  -0.257519                0.586063      0.623805   \n",
              "2                  -0.235899                0.356616      0.305677   \n",
              "3                   0.094340                0.106455      0.599768   \n",
              "4                   0.238055                0.432594      0.594587   \n",
              "\n",
              "  stress_index_bucket  \n",
              "0             0.5-0.6  \n",
              "1             0.6-0.7  \n",
              "2             0.3-0.4  \n",
              "3             0.5-0.6  \n",
              "4             0.5-0.6  "
            ],
            "text/html": [
              "\n",
              "  <div id=\"df-2dfac67e-aedb-4b41-8e03-1f52f056789d\" class=\"colab-df-container\">\n",
              "    <div>\n",
              "<style scoped>\n",
              "    .dataframe tbody tr th:only-of-type {\n",
              "        vertical-align: middle;\n",
              "    }\n",
              "\n",
              "    .dataframe tbody tr th {\n",
              "        vertical-align: top;\n",
              "    }\n",
              "\n",
              "    .dataframe thead th {\n",
              "        text-align: right;\n",
              "    }\n",
              "</style>\n",
              "<table border=\"1\" class=\"dataframe\">\n",
              "  <thead>\n",
              "    <tr style=\"text-align: right;\">\n",
              "      <th></th>\n",
              "      <th>news_sentiment</th>\n",
              "      <th>broker_count_imbalance</th>\n",
              "      <th>volume_indicator</th>\n",
              "      <th>benchmark_price_difference</th>\n",
              "      <th>trade_count_imbalance</th>\n",
              "      <th>one_sided_trade_indicator</th>\n",
              "      <th>tranche_size_indicator</th>\n",
              "      <th>stress_index</th>\n",
              "      <th>stress_index_bucket</th>\n",
              "    </tr>\n",
              "  </thead>\n",
              "  <tbody>\n",
              "    <tr>\n",
              "      <th>0</th>\n",
              "      <td>0.393144</td>\n",
              "      <td>0.124362</td>\n",
              "      <td>0.677889</td>\n",
              "      <td>0.497776</td>\n",
              "      <td>-0.720698</td>\n",
              "      <td>-0.680076</td>\n",
              "      <td>0.724869</td>\n",
              "      <td>0.551515</td>\n",
              "      <td>0.5-0.6</td>\n",
              "    </tr>\n",
              "    <tr>\n",
              "      <th>1</th>\n",
              "      <td>0.772496</td>\n",
              "      <td>0.369376</td>\n",
              "      <td>-0.877238</td>\n",
              "      <td>0.139748</td>\n",
              "      <td>0.851864</td>\n",
              "      <td>-0.257519</td>\n",
              "      <td>0.586063</td>\n",
              "      <td>0.623805</td>\n",
              "      <td>0.6-0.7</td>\n",
              "    </tr>\n",
              "    <tr>\n",
              "      <th>2</th>\n",
              "      <td>-0.189353</td>\n",
              "      <td>0.190013</td>\n",
              "      <td>-0.485352</td>\n",
              "      <td>-0.364914</td>\n",
              "      <td>-0.183833</td>\n",
              "      <td>-0.235899</td>\n",
              "      <td>0.356616</td>\n",
              "      <td>0.305677</td>\n",
              "      <td>0.3-0.4</td>\n",
              "    </tr>\n",
              "    <tr>\n",
              "      <th>3</th>\n",
              "      <td>0.219090</td>\n",
              "      <td>-0.577930</td>\n",
              "      <td>0.876170</td>\n",
              "      <td>0.495462</td>\n",
              "      <td>0.182495</td>\n",
              "      <td>0.094340</td>\n",
              "      <td>0.106455</td>\n",
              "      <td>0.599768</td>\n",
              "      <td>0.5-0.6</td>\n",
              "    </tr>\n",
              "    <tr>\n",
              "      <th>4</th>\n",
              "      <td>0.038766</td>\n",
              "      <td>0.474529</td>\n",
              "      <td>0.345526</td>\n",
              "      <td>-0.153370</td>\n",
              "      <td>-0.020692</td>\n",
              "      <td>0.238055</td>\n",
              "      <td>0.432594</td>\n",
              "      <td>0.594587</td>\n",
              "      <td>0.5-0.6</td>\n",
              "    </tr>\n",
              "  </tbody>\n",
              "</table>\n",
              "</div>\n",
              "    <div class=\"colab-df-buttons\">\n",
              "\n",
              "  <div class=\"colab-df-container\">\n",
              "    <button class=\"colab-df-convert\" onclick=\"convertToInteractive('df-2dfac67e-aedb-4b41-8e03-1f52f056789d')\"\n",
              "            title=\"Convert this dataframe to an interactive table.\"\n",
              "            style=\"display:none;\">\n",
              "\n",
              "  <svg xmlns=\"http://www.w3.org/2000/svg\" height=\"24px\" viewBox=\"0 -960 960 960\">\n",
              "    <path d=\"M120-120v-720h720v720H120Zm60-500h600v-160H180v160Zm220 220h160v-160H400v160Zm0 220h160v-160H400v160ZM180-400h160v-160H180v160Zm440 0h160v-160H620v160ZM180-180h160v-160H180v160Zm440 0h160v-160H620v160Z\"/>\n",
              "  </svg>\n",
              "    </button>\n",
              "\n",
              "  <style>\n",
              "    .colab-df-container {\n",
              "      display:flex;\n",
              "      gap: 12px;\n",
              "    }\n",
              "\n",
              "    .colab-df-convert {\n",
              "      background-color: #E8F0FE;\n",
              "      border: none;\n",
              "      border-radius: 50%;\n",
              "      cursor: pointer;\n",
              "      display: none;\n",
              "      fill: #1967D2;\n",
              "      height: 32px;\n",
              "      padding: 0 0 0 0;\n",
              "      width: 32px;\n",
              "    }\n",
              "\n",
              "    .colab-df-convert:hover {\n",
              "      background-color: #E2EBFA;\n",
              "      box-shadow: 0px 1px 2px rgba(60, 64, 67, 0.3), 0px 1px 3px 1px rgba(60, 64, 67, 0.15);\n",
              "      fill: #174EA6;\n",
              "    }\n",
              "\n",
              "    .colab-df-buttons div {\n",
              "      margin-bottom: 4px;\n",
              "    }\n",
              "\n",
              "    [theme=dark] .colab-df-convert {\n",
              "      background-color: #3B4455;\n",
              "      fill: #D2E3FC;\n",
              "    }\n",
              "\n",
              "    [theme=dark] .colab-df-convert:hover {\n",
              "      background-color: #434B5C;\n",
              "      box-shadow: 0px 1px 3px 1px rgba(0, 0, 0, 0.15);\n",
              "      filter: drop-shadow(0px 1px 2px rgba(0, 0, 0, 0.3));\n",
              "      fill: #FFFFFF;\n",
              "    }\n",
              "  </style>\n",
              "\n",
              "    <script>\n",
              "      const buttonEl =\n",
              "        document.querySelector('#df-2dfac67e-aedb-4b41-8e03-1f52f056789d button.colab-df-convert');\n",
              "      buttonEl.style.display =\n",
              "        google.colab.kernel.accessAllowed ? 'block' : 'none';\n",
              "\n",
              "      async function convertToInteractive(key) {\n",
              "        const element = document.querySelector('#df-2dfac67e-aedb-4b41-8e03-1f52f056789d');\n",
              "        const dataTable =\n",
              "          await google.colab.kernel.invokeFunction('convertToInteractive',\n",
              "                                                    [key], {});\n",
              "        if (!dataTable) return;\n",
              "\n",
              "        const docLinkHtml = 'Like what you see? Visit the ' +\n",
              "          '<a target=\"_blank\" href=https://colab.research.google.com/notebooks/data_table.ipynb>data table notebook</a>'\n",
              "          + ' to learn more about interactive tables.';\n",
              "        element.innerHTML = '';\n",
              "        dataTable['output_type'] = 'display_data';\n",
              "        await google.colab.output.renderOutput(dataTable, element);\n",
              "        const docLink = document.createElement('div');\n",
              "        docLink.innerHTML = docLinkHtml;\n",
              "        element.appendChild(docLink);\n",
              "      }\n",
              "    </script>\n",
              "  </div>\n",
              "\n",
              "\n",
              "<div id=\"df-0f807694-7795-4455-bce9-712820661bf0\">\n",
              "  <button class=\"colab-df-quickchart\" onclick=\"quickchart('df-0f807694-7795-4455-bce9-712820661bf0')\"\n",
              "            title=\"Suggest charts\"\n",
              "            style=\"display:none;\">\n",
              "\n",
              "<svg xmlns=\"http://www.w3.org/2000/svg\" height=\"24px\"viewBox=\"0 0 24 24\"\n",
              "     width=\"24px\">\n",
              "    <g>\n",
              "        <path d=\"M19 3H5c-1.1 0-2 .9-2 2v14c0 1.1.9 2 2 2h14c1.1 0 2-.9 2-2V5c0-1.1-.9-2-2-2zM9 17H7v-7h2v7zm4 0h-2V7h2v10zm4 0h-2v-4h2v4z\"/>\n",
              "    </g>\n",
              "</svg>\n",
              "  </button>\n",
              "\n",
              "<style>\n",
              "  .colab-df-quickchart {\n",
              "      --bg-color: #E8F0FE;\n",
              "      --fill-color: #1967D2;\n",
              "      --hover-bg-color: #E2EBFA;\n",
              "      --hover-fill-color: #174EA6;\n",
              "      --disabled-fill-color: #AAA;\n",
              "      --disabled-bg-color: #DDD;\n",
              "  }\n",
              "\n",
              "  [theme=dark] .colab-df-quickchart {\n",
              "      --bg-color: #3B4455;\n",
              "      --fill-color: #D2E3FC;\n",
              "      --hover-bg-color: #434B5C;\n",
              "      --hover-fill-color: #FFFFFF;\n",
              "      --disabled-bg-color: #3B4455;\n",
              "      --disabled-fill-color: #666;\n",
              "  }\n",
              "\n",
              "  .colab-df-quickchart {\n",
              "    background-color: var(--bg-color);\n",
              "    border: none;\n",
              "    border-radius: 50%;\n",
              "    cursor: pointer;\n",
              "    display: none;\n",
              "    fill: var(--fill-color);\n",
              "    height: 32px;\n",
              "    padding: 0;\n",
              "    width: 32px;\n",
              "  }\n",
              "\n",
              "  .colab-df-quickchart:hover {\n",
              "    background-color: var(--hover-bg-color);\n",
              "    box-shadow: 0 1px 2px rgba(60, 64, 67, 0.3), 0 1px 3px 1px rgba(60, 64, 67, 0.15);\n",
              "    fill: var(--button-hover-fill-color);\n",
              "  }\n",
              "\n",
              "  .colab-df-quickchart-complete:disabled,\n",
              "  .colab-df-quickchart-complete:disabled:hover {\n",
              "    background-color: var(--disabled-bg-color);\n",
              "    fill: var(--disabled-fill-color);\n",
              "    box-shadow: none;\n",
              "  }\n",
              "\n",
              "  .colab-df-spinner {\n",
              "    border: 2px solid var(--fill-color);\n",
              "    border-color: transparent;\n",
              "    border-bottom-color: var(--fill-color);\n",
              "    animation:\n",
              "      spin 1s steps(1) infinite;\n",
              "  }\n",
              "\n",
              "  @keyframes spin {\n",
              "    0% {\n",
              "      border-color: transparent;\n",
              "      border-bottom-color: var(--fill-color);\n",
              "      border-left-color: var(--fill-color);\n",
              "    }\n",
              "    20% {\n",
              "      border-color: transparent;\n",
              "      border-left-color: var(--fill-color);\n",
              "      border-top-color: var(--fill-color);\n",
              "    }\n",
              "    30% {\n",
              "      border-color: transparent;\n",
              "      border-left-color: var(--fill-color);\n",
              "      border-top-color: var(--fill-color);\n",
              "      border-right-color: var(--fill-color);\n",
              "    }\n",
              "    40% {\n",
              "      border-color: transparent;\n",
              "      border-right-color: var(--fill-color);\n",
              "      border-top-color: var(--fill-color);\n",
              "    }\n",
              "    60% {\n",
              "      border-color: transparent;\n",
              "      border-right-color: var(--fill-color);\n",
              "    }\n",
              "    80% {\n",
              "      border-color: transparent;\n",
              "      border-right-color: var(--fill-color);\n",
              "      border-bottom-color: var(--fill-color);\n",
              "    }\n",
              "    90% {\n",
              "      border-color: transparent;\n",
              "      border-bottom-color: var(--fill-color);\n",
              "    }\n",
              "  }\n",
              "</style>\n",
              "\n",
              "  <script>\n",
              "    async function quickchart(key) {\n",
              "      const quickchartButtonEl =\n",
              "        document.querySelector('#' + key + ' button');\n",
              "      quickchartButtonEl.disabled = true;  // To prevent multiple clicks.\n",
              "      quickchartButtonEl.classList.add('colab-df-spinner');\n",
              "      try {\n",
              "        const charts = await google.colab.kernel.invokeFunction(\n",
              "            'suggestCharts', [key], {});\n",
              "      } catch (error) {\n",
              "        console.error('Error during call to suggestCharts:', error);\n",
              "      }\n",
              "      quickchartButtonEl.classList.remove('colab-df-spinner');\n",
              "      quickchartButtonEl.classList.add('colab-df-quickchart-complete');\n",
              "    }\n",
              "    (() => {\n",
              "      let quickchartButtonEl =\n",
              "        document.querySelector('#df-0f807694-7795-4455-bce9-712820661bf0 button');\n",
              "      quickchartButtonEl.style.display =\n",
              "        google.colab.kernel.accessAllowed ? 'block' : 'none';\n",
              "    })();\n",
              "  </script>\n",
              "</div>\n",
              "\n",
              "    </div>\n",
              "  </div>\n"
            ],
            "application/vnd.google.colaboratory.intrinsic+json": {
              "type": "dataframe",
              "variable_name": "df_stress_index",
              "summary": "{\n  \"name\": \"df_stress_index\",\n  \"rows\": 5000,\n  \"fields\": [\n    {\n      \"column\": \"news_sentiment\",\n      \"properties\": {\n        \"dtype\": \"number\",\n        \"std\": 0.4479666648490416,\n        \"min\": -0.9900856413660544,\n        \"max\": 0.9721617617689164,\n        \"num_unique_values\": 5000,\n        \"samples\": [\n          -0.9240495443440928,\n          0.3423223065430547,\n          0.2478547680390819\n        ],\n        \"semantic_type\": \"\",\n        \"description\": \"\"\n      }\n    },\n    {\n      \"column\": \"broker_count_imbalance\",\n      \"properties\": {\n        \"dtype\": \"number\",\n        \"std\": 0.4456179958629164,\n        \"min\": -0.9900983084458927,\n        \"max\": 0.9926217123364832,\n        \"num_unique_values\": 5000,\n        \"samples\": [\n          -0.5695074645304654,\n          -0.5086902058475478,\n          -0.7265046528131028\n        ],\n        \"semantic_type\": \"\",\n        \"description\": \"\"\n      }\n    },\n    {\n      \"column\": \"volume_indicator\",\n      \"properties\": {\n        \"dtype\": \"number\",\n        \"std\": 0.44536480893570995,\n        \"min\": -0.9949577834366368,\n        \"max\": 0.9927989597675088,\n        \"num_unique_values\": 5000,\n        \"samples\": [\n          0.336122741771734,\n          0.4972247127227887,\n          0.6754089586685796\n        ],\n        \"semantic_type\": \"\",\n        \"description\": \"\"\n      }\n    },\n    {\n      \"column\": \"benchmark_price_difference\",\n      \"properties\": {\n        \"dtype\": \"number\",\n        \"std\": 0.4449890203052839,\n        \"min\": -0.9846295818931284,\n        \"max\": 0.9890038308421868,\n        \"num_unique_values\": 5000,\n        \"samples\": [\n          0.5342749461057781,\n          0.2755108515597488,\n          -0.2933221192109618\n        ],\n        \"semantic_type\": \"\",\n        \"description\": \"\"\n      }\n    },\n    {\n      \"column\": \"trade_count_imbalance\",\n      \"properties\": {\n        \"dtype\": \"number\",\n        \"std\": 0.43776363717987066,\n        \"min\": -0.9899692399868412,\n        \"max\": 0.995577453767932,\n        \"num_unique_values\": 5000,\n        \"samples\": [\n          -0.4761528385684729,\n          0.5439643976241835,\n          0.3220812865684113\n        ],\n        \"semantic_type\": \"\",\n        \"description\": \"\"\n      }\n    },\n    {\n      \"column\": \"one_sided_trade_indicator\",\n      \"properties\": {\n        \"dtype\": \"number\",\n        \"std\": 0.4446270996608774,\n        \"min\": -0.9790715950225672,\n        \"max\": 0.9736488982455505,\n        \"num_unique_values\": 5000,\n        \"samples\": [\n          -0.3986096041674686,\n          -0.0054874017398282,\n          0.7323531987677823\n        ],\n        \"semantic_type\": \"\",\n        \"description\": \"\"\n      }\n    },\n    {\n      \"column\": \"tranche_size_indicator\",\n      \"properties\": {\n        \"dtype\": \"number\",\n        \"std\": 0.22345615028049362,\n        \"min\": 0.0107531634926119,\n        \"max\": 0.997207453303847,\n        \"num_unique_values\": 5000,\n        \"samples\": [\n          0.5586935841507646,\n          0.3301318419206263,\n          0.6498030603787914\n        ],\n        \"semantic_type\": \"\",\n        \"description\": \"\"\n      }\n    },\n    {\n      \"column\": \"stress_index\",\n      \"properties\": {\n        \"dtype\": \"number\",\n        \"std\": 0.1424351456033087,\n        \"min\": 0.0,\n        \"max\": 1.0,\n        \"num_unique_values\": 5000,\n        \"samples\": [\n          0.3023011689864318,\n          0.6098173768097939,\n          0.6267201627709701\n        ],\n        \"semantic_type\": \"\",\n        \"description\": \"\"\n      }\n    },\n    {\n      \"column\": \"stress_index_bucket\",\n      \"properties\": {\n        \"dtype\": \"category\",\n        \"num_unique_values\": 10,\n        \"samples\": [\n          \"0.0-0.1\",\n          \"0.6-0.7\",\n          \"0.4-0.5\"\n        ],\n        \"semantic_type\": \"\",\n        \"description\": \"\"\n      }\n    }\n  ]\n}"
            }
          },
          "metadata": {},
          "execution_count": 9
        }
      ],
      "source": [
        "df_stress_index.head()"
      ]
    },
    {
      "cell_type": "markdown",
      "metadata": {
        "id": "AJWgkHQyyhZI"
      },
      "source": [
        "Creating data for MCQ Format in Uncertainty quantification method"
      ]
    },
    {
      "cell_type": "code",
      "execution_count": 10,
      "metadata": {
        "id": "1Bpmv1JEyfxN"
      },
      "outputs": [],
      "source": [
        "def shuffle_list(original_list):\n",
        "    # Create a copy of the list\n",
        "    shuffled_list = original_list.copy()\n",
        "\n",
        "    # Shuffle the copy\n",
        "    random.shuffle(shuffled_list)\n",
        "\n",
        "    return shuffled_list"
      ]
    },
    {
      "cell_type": "code",
      "execution_count": 11,
      "metadata": {
        "id": "FYeVVhhqygfT"
      },
      "outputs": [],
      "source": [
        "list_stress_index_bucket=[str(np.round(x,1))+'-'+str(np.round(x+bin_width,1)) for x in np.arange(0,1,bin_width)]\n",
        "list_option_choices=[chr(x) for x in range(65,65+len(list_stress_index_bucket))]"
      ]
    },
    {
      "cell_type": "markdown",
      "metadata": {
        "id": "KMG4i5tHev7R"
      },
      "source": [
        "**Trading Bot Prompting**"
      ]
    },
    {
      "cell_type": "code",
      "execution_count": 12,
      "metadata": {
        "colab": {
          "base_uri": "https://localhost:8080/"
        },
        "id": "YKRMXACke06w",
        "outputId": "f1a26074-d348-4570-f983-1341348e5d15"
      },
      "outputs": [
        {
          "name": "stdout",
          "output_type": "stream",
          "text": [
            "Enter your Hugging Face token: ··········\n"
          ]
        }
      ],
      "source": [
        "import getpass\n",
        "\n",
        "# Prompt for the Hugging Face token\n",
        "hf_token = getpass.getpass(\"Enter your Hugging Face token: \")\n",
        "\n",
        "import os\n",
        "os.environ['HUGGINGFACE_TOKEN'] = hf_token"
      ]
    },
    {
      "cell_type": "code",
      "execution_count": 13,
      "metadata": {
        "colab": {
          "base_uri": "https://localhost:8080/",
          "height": 49,
          "referenced_widgets": [
            "4fec9f88c58f4577a2ddb51f7faaf3b5",
            "c27849d2393d4d0f8ec774f87ea2aa84",
            "01d309af5a1747c0b487137cf0fd1f9b",
            "fa0d5814fea54abf9bdcef0c53daa055",
            "faa1856e01bc4feda46591d62644bd3e",
            "c8ff599e08a3455685aee62ae4ab0347",
            "84832dc4c08c4b74be6d1aa7b6bbea97",
            "362d95cd55104b41ad48cc6b9872b823",
            "fddcf54132a147f09c13f7f8e71ea9cf",
            "9e8bf288814045668b65b79d63430b44",
            "1b36436ddcce4e518cfdc9e3a91bf3a2"
          ]
        },
        "id": "5K82EJyEu1S6",
        "outputId": "c1a938f9-160a-4653-8360-62b8efcc8bdb"
      },
      "outputs": [
        {
          "output_type": "display_data",
          "data": {
            "text/plain": [
              "Loading checkpoint shards:   0%|          | 0/2 [00:00<?, ?it/s]"
            ],
            "application/vnd.jupyter.widget-view+json": {
              "version_major": 2,
              "version_minor": 0,
              "model_id": "4fec9f88c58f4577a2ddb51f7faaf3b5"
            }
          },
          "metadata": {}
        }
      ],
      "source": [
        "# model_id =  \"NousResearch/Llama-2-7b-hf\"\n",
        "# model_id = \"meta-llama/Llama-2-7b-chat-hf\"\n",
        "# model_id = \"mistralai/Mistral-7B-v0.1\"\n",
        "model_id = \"microsoft/phi-2\"\n",
        "bnb_config = BitsAndBytesConfig(\n",
        "        load_in_4bit=True,\n",
        "        bnb_4bit_use_double_quant=True,\n",
        "        bnb_4bit_quant_type=\"nf4\",\n",
        "        bnb_4bit_compute_dtype=torch.bfloat16,\n",
        "    )\n",
        "# quantization_config = BitsAndBytesConfig(load_in_4bit=True)\n",
        "model = AutoModelForCausalLM.from_pretrained(model_id, quantization_config=bnb_config, device_map=\"auto\",token=hf_token)"
      ]
    },
    {
      "cell_type": "code",
      "execution_count": 14,
      "metadata": {
        "colab": {
          "base_uri": "https://localhost:8080/"
        },
        "id": "AHpop3tlvDlf",
        "outputId": "450f1d9b-461b-4d9e-fc31-14a5a40ef07a"
      },
      "outputs": [
        {
          "output_type": "stream",
          "name": "stderr",
          "text": [
            "Special tokens have been added in the vocabulary, make sure the associated word embeddings are fine-tuned or trained.\n"
          ]
        }
      ],
      "source": [
        "tokenizer = AutoTokenizer.from_pretrained(model_id,token=hf_token)\n",
        "tokenizer.pad_token = tokenizer.eos_token\n",
        "tokenizer.padding_side = \"right\""
      ]
    },
    {
      "cell_type": "markdown",
      "metadata": {
        "id": "g3WTT8UCzxOe"
      },
      "source": [
        "**Prompt with 1 shot example (first row of the dataframe)**"
      ]
    },
    {
      "cell_type": "code",
      "execution_count": null,
      "metadata": {
        "id": "WzWK3ea8ycSS"
      },
      "outputs": [],
      "source": [
        "instruction=\"\"\"\n",
        "###Instruction:\n",
        "You are fixed income corporate bond trader. Use the feature values that I will provide and select the correct option for classifying the stress index (range of 0 to 1) into one of the defined buckets.\n",
        "Feature descriptions:\n",
        "- news_sentiment: Scale from -1 (negative) to +1 (positive) reflecting the sentiment in news about the bond issuer over the past 7 days.\n",
        "- broker_count_imbalance: Difference in broker count buying or selling the same security in the last 2 days, ranging from -1 (more selling) to +1 (more buying).\n",
        "- volume_indicator: Indicates if a bond is heavily traded in the last 2 days, with -1 for high selling volume and +1 for high buying volume.\n",
        "- benchmark_price_difference: Compares a bond's quoted price to the benchmark, ranging from -1 (below benchmark) to +1 (above benchmark), indicating price stress.\n",
        "- trade_count_imbalance: Difference in buy and sell trades of a security over 2 days, from -1 (more sells) to +1 (more buys).\n",
        "- one_sided_trade_indicator: Imbalance in buy or sell trades over 7 days, with -1 for predominantly sell trades and +1 for buy trades.\n",
        "- tranche_size_indicator: Assesses bond stress by the direction of trades and tranche size, ranging from 0 (large tranche) to 1 (small tranche).\n",
        "###Question:\n",
        "Given the feature value dict as:\n",
        "{'news_sentiment': 0.3931444486731639, 'broker_count_imbalance': 0.1243619871996783, 'volume_indicator': 0.6778892697073087, 'benchmark_price_difference': 0.4977762417709135, 'trade_count_imbalance': -0.7206982745760815, 'one_sided_trade_indicator': -0.6800763028141159, 'tranche_size_indicator': 0.7248691201811168}\n",
        "Return the correct option for classifying stress index from the following options based on above features. Do not generate anything else apart from the option.\n",
        "\"\"\""
      ]
    },
    {
      "cell_type": "code",
      "execution_count": null,
      "metadata": {
        "id": "tP56mDxsz2mu"
      },
      "outputs": [],
      "source": [
        "choice_prompt=''''''\n",
        "for i,j in zip(list_option_choices,shuffle_list(list_stress_index_bucket)):\n",
        "    choice_prompt+=f'({i}) {j}\\n'"
      ]
    },
    {
      "cell_type": "code",
      "execution_count": null,
      "metadata": {
        "id": "zj7sAvv_z4DM"
      },
      "outputs": [],
      "source": [
        "example_prompt=''''''\n",
        "example_prompt+=instruction\n",
        "example_prompt+=choice_prompt\n",
        "example_prompt+='''\n",
        "###Answer:\n",
        "B\n",
        "'''\n",
        "##Manually added the answer from the first row of the dataframe (taken as the 1 shot example)"
      ]
    },
    {
      "cell_type": "markdown",
      "metadata": {
        "id": "uVLtsezR0AHV"
      },
      "source": [
        "Final prompt for the model to return the stress index bucket"
      ]
    },
    {
      "cell_type": "code",
      "execution_count": null,
      "metadata": {
        "id": "xcRcgKIsz_4f"
      },
      "outputs": [],
      "source": [
        "final_prompt=''''''\n",
        "final_prompt+=example_prompt\n",
        "final_prompt+='''\n",
        "###Question:\n",
        "Given the feature value dict as:\n",
        "{'news_sentiment': 0.7724956104208642, 'broker_count_imbalance': 0.3693763241525458, 'volume_indicator': -0.8772379830243947, 'benchmark_price_difference': 0.1397481154484952, 'trade_count_imbalance': 0.8518638934191982, 'one_sided_trade_indicator': -0.2575187071551993, 'tranche_size_indicator': 0.5860627411447076}\n",
        "Return the correct option for classifying stress index from the following options based on above features. Do not generate anything else apart from the option.\n",
        "'''\n",
        "choice_prompt=''''''\n",
        "for i,j in zip(list_option_choices,shuffle_list(list_stress_index_bucket)):\n",
        "    choice_prompt+=f'({i}) {j}\\n'\n",
        "\n",
        "final_prompt+=choice_prompt\n",
        "final_prompt+='''\n",
        "###Answer:\n",
        "'''"
      ]
    },
    {
      "cell_type": "markdown",
      "metadata": {
        "id": "DUiysnuk0i8u"
      },
      "source": [
        "Model Generation to see what the model predicted as next token:"
      ]
    },
    {
      "cell_type": "code",
      "execution_count": 16,
      "metadata": {
        "id": "bnzAYLwc1y5G"
      },
      "outputs": [],
      "source": [
        "def model_generation(model, prompt):\n",
        "    inputs = tokenizer(prompt, return_tensors='pt')\n",
        "    generated_ids=model.generate(\n",
        "        inputs[\"input_ids\"],\n",
        "        temperature=0.2,\n",
        "        max_new_tokens=1\n",
        "    )\n",
        "    output = tokenizer.decode(\n",
        "        generated_ids[0],\n",
        "        # stopping_criteria = [EosListStoppingCriteria()] ,\n",
        "        skip_special_tokens=False\n",
        "    )\n",
        "    return output"
      ]
    },
    {
      "cell_type": "code",
      "execution_count": null,
      "metadata": {
        "id": "RX-o04b70rek"
      },
      "outputs": [],
      "source": [
        "output = model_generation(model, final_prompt)"
      ]
    },
    {
      "cell_type": "code",
      "execution_count": null,
      "metadata": {
        "id": "cPbysRpA15et"
      },
      "outputs": [],
      "source": [
        "print(output)"
      ]
    },
    {
      "cell_type": "code",
      "execution_count": 15,
      "metadata": {
        "id": "SsIEcLxM16qQ"
      },
      "outputs": [],
      "source": [
        "def delete_model(model):\n",
        "    del model\n",
        "    gc.collect()\n",
        "    torch.cuda.empty_cache()\n",
        "    return"
      ]
    },
    {
      "cell_type": "code",
      "execution_count": 16,
      "metadata": {
        "id": "YOWUC_i519I0"
      },
      "outputs": [],
      "source": [
        "def delete_generation_output(output):\n",
        "    del output\n",
        "    gc.collect()\n",
        "    torch.cuda.empty_cache()\n",
        "    return"
      ]
    },
    {
      "cell_type": "markdown",
      "metadata": {
        "id": "8XDpZAFL0tDk"
      },
      "source": [
        "Model Forward to get the logits of the next token:"
      ]
    },
    {
      "cell_type": "code",
      "execution_count": 17,
      "metadata": {
        "id": "gu-l1AzG1tXN"
      },
      "outputs": [],
      "source": [
        "def model_forward(model, prompt):\n",
        "    inputs = tokenizer(prompt, return_tensors='pt')\n",
        "    try:\n",
        "        outputs=model(inputs[\"input_ids\"])\n",
        "    except:\n",
        "        return\n",
        "    output_logits = outputs.logits.detach().cpu()\n",
        "    next_token_logits = output_logits[:, -1]\n",
        "    return next_token_logits"
      ]
    },
    {
      "cell_type": "code",
      "execution_count": 18,
      "metadata": {
        "id": "jzUn-mMD05Fo"
      },
      "outputs": [],
      "source": [
        "##Softmax function to convert logits to probabilities\n",
        "def softmax(x):\n",
        "    e_x=np.exp(x-np.max(x))\n",
        "    return e_x/e_x.sum()"
      ]
    },
    {
      "cell_type": "code",
      "execution_count": 20,
      "metadata": {
        "id": "oxuwZUxr09by"
      },
      "outputs": [],
      "source": [
        "tokens_of_interest= list_option_choices #the option choices corresponding to stress index buckets\n",
        "\n",
        "token_indices = tokenizer.convert_tokens_to_ids(tokens_of_interest) #get the index for the option tokens\n",
        "\n",
        "indices_in_logits = {token: next_token_logits[0,token_idx].item() for token, token_idx in zip(tokens_of_interest, token_indices)}\n",
        "\n",
        "label_to_softmax_dict=dict(zip(tokens_of_interest,softmax(np.array(list(indices_in_logits.values())))))"
      ]
    },
    {
      "cell_type": "code",
      "execution_count": null,
      "metadata": {
        "id": "3GSyNds-1M66"
      },
      "outputs": [],
      "source": [
        "print(label_to_softmax_dict) ##this would show the softmax for each of the labels (options)"
      ]
    },
    {
      "cell_type": "markdown",
      "metadata": {
        "id": "yOJlmb9x1UFQ"
      },
      "source": [
        "***Run the code below to delete the variables and free up unused memory (Used when running the above model forward again to avoid CUDA out of memory issue): Note: You would to create the inputs variable again***"
      ]
    },
    {
      "cell_type": "code",
      "execution_count": 17,
      "metadata": {
        "id": "49Q8UyIE1TC2"
      },
      "outputs": [],
      "source": [
        "# Clear memory\n",
        "def delete_inputs_outputs(inputs):\n",
        "  del inputs\n",
        "  del outputs\n",
        "  gc.collect()\n",
        "  torch.cuda.empty_cache()\n",
        "  return"
      ]
    },
    {
      "cell_type": "code",
      "execution_count": 18,
      "metadata": {
        "id": "Gew5P9U61iY4"
      },
      "outputs": [],
      "source": [
        "def get_values_before_key(sorted_dict, key): ###updated the function to include the logits not including the true label\n",
        "    values_before_key = []\n",
        "    for k, v in sorted_dict.items():\n",
        "        if k == key:\n",
        "            # values_before_key.append(v)\n",
        "            break\n",
        "        values_before_key.append(v)\n",
        "    return values_before_key"
      ]
    },
    {
      "cell_type": "markdown",
      "metadata": {
        "id": "Mo68x2boYPeI"
      },
      "source": [
        "#### LAC CONFORMAL SCORE"
      ]
    },
    {
      "cell_type": "code",
      "execution_count": 19,
      "metadata": {
        "id": "MeZ8PpMyYNKf"
      },
      "outputs": [],
      "source": [
        "def lac(true_label, label_softmax_dict):\n",
        "    lac_score = 1.0 - label_softmax_dict[true_label]\n",
        "    return lac_score"
      ]
    },
    {
      "cell_type": "code",
      "execution_count": null,
      "metadata": {
        "id": "soJcA-YWYWln"
      },
      "outputs": [],
      "source": [
        "##Calculating the LAC conformal score for the example\n",
        "print(lac('H',label_to_softmax_dict))"
      ]
    },
    {
      "cell_type": "markdown",
      "metadata": {
        "id": "vuCPEWkMYQOV"
      },
      "source": [
        "#### APS CONFORMAL SCORE"
      ]
    },
    {
      "cell_type": "code",
      "execution_count": 20,
      "metadata": {
        "id": "EXd_WFu0YNH3"
      },
      "outputs": [],
      "source": [
        "def aps(true_label, label_softmax_dict):\n",
        "    sorted_softmax_dict = dict(sorted(label_to_softmax_dict.items(), key=lambda item: item[1], reverse=True))\n",
        "    high_labels = get_values_before_key(sorted_softmax_dict, true_label)\n",
        "    aps_score = sum(high_labels)\n",
        "    return aps_score"
      ]
    },
    {
      "cell_type": "code",
      "execution_count": null,
      "metadata": {
        "id": "82UoUPToYW8f"
      },
      "outputs": [],
      "source": [
        "print(aps('H', label_to_softmax_dict))"
      ]
    },
    {
      "cell_type": "markdown",
      "source": [
        "Code Segment for Batch Testing"
      ],
      "metadata": {
        "id": "pgbishZSkKDE"
      }
    },
    {
      "cell_type": "markdown",
      "source": [
        "Creating prompt column for the dataset:"
      ],
      "metadata": {
        "id": "ohqiKB2MlCqb"
      }
    },
    {
      "cell_type": "code",
      "source": [
        "feature_cols=['news_sentiment', 'broker_count_imbalance', 'volume_indicator',\n",
        "       'benchmark_price_difference', 'trade_count_imbalance',\n",
        "       'one_sided_trade_indicator', 'tranche_size_indicator']\n",
        "bucket_col='stress_index_bucket'\n",
        "\n",
        "base_instruction = \"\"\"###Instruction:\n",
        "You are fixed income corporate bond trader. Use the feature values that I will provide and select the correct option for classifying the stress index (range of 0 to 1) into one of the defined buckets.\n",
        "Feature descriptions:\n",
        "- news_sentiment: Scale from -1 (negative) to +1 (positive) reflecting the sentiment in news about the bond issuer over the past 7 days.\n",
        "- broker_count_imbalance: Difference in broker count buying or selling the same security in the last 2 days, ranging from -1 (more selling) to +1 (more buying).\n",
        "- volume_indicator: Indicates if a bond is heavily traded in the last 2 days, with -1 for high selling volume and +1 for high buying volume.\n",
        "- benchmark_price_difference: Compares a bond's quoted price to the benchmark, ranging from -1 (below benchmark) to +1 (above benchmark), indicating price stress.\n",
        "- trade_count_imbalance: Difference in buy and sell trades of a security over 2 days, from -1 (more sells) to +1 (more buys).\n",
        "- one_sided_trade_indicator: Imbalance in buy or sell trades over 7 days, with -1 for predominantly sell trades and +1 for buy trades.\n",
        "- tranche_size_indicator: Assesses bond stress by the direction of trades and tranche size, ranging from 0 (large tranche) to 1 (small tranche).\n",
        "\"\"\"\n",
        "\n",
        "base_instruction+=f'''\n",
        "###Question:\n",
        "Given the feature value dict as:\n",
        "{str(df_stress_index.head(1)[feature_cols].to_dict(orient='records')[0])}\n",
        "Return the correct option for classifying stress index from the following options based on above features. Do not generate anything else apart from the option.\n",
        "'''\n",
        "\n",
        "choice_prompt=''''''\n",
        "for i,j in zip(list_option_choices,shuffle_list(list_stress_index_bucket)):\n",
        "    choice_prompt+=f'({i}) {j}\\n'\n",
        "    if j==df_stress_index.head(1)[bucket_col].values[0]:\n",
        "      base_answer=i\n",
        "\n",
        "base_instruction+=choice_prompt\n",
        "base_instruction+=f'''\n",
        "###Answer:\n",
        "{base_answer}\n",
        "'''\n"
      ],
      "metadata": {
        "id": "WIEtRdd_oGG6"
      },
      "execution_count": 25,
      "outputs": []
    },
    {
      "cell_type": "code",
      "source": [
        "print(base_instruction)"
      ],
      "metadata": {
        "colab": {
          "base_uri": "https://localhost:8080/"
        },
        "id": "Ph3OyS2rohDL",
        "outputId": "ebeb2524-74c2-4007-90f4-bd9cbc277561"
      },
      "execution_count": 26,
      "outputs": [
        {
          "output_type": "stream",
          "name": "stdout",
          "text": [
            "###Instruction:\n",
            "You are fixed income corporate bond trader. Use the feature values that I will provide and select the correct option for classifying the stress index (range of 0 to 1) into one of the defined buckets.\n",
            "Feature descriptions:\n",
            "- news_sentiment: Scale from -1 (negative) to +1 (positive) reflecting the sentiment in news about the bond issuer over the past 7 days.\n",
            "- broker_count_imbalance: Difference in broker count buying or selling the same security in the last 2 days, ranging from -1 (more selling) to +1 (more buying).\n",
            "- volume_indicator: Indicates if a bond is heavily traded in the last 2 days, with -1 for high selling volume and +1 for high buying volume.\n",
            "- benchmark_price_difference: Compares a bond's quoted price to the benchmark, ranging from -1 (below benchmark) to +1 (above benchmark), indicating price stress.\n",
            "- trade_count_imbalance: Difference in buy and sell trades of a security over 2 days, from -1 (more sells) to +1 (more buys).\n",
            "- one_sided_trade_indicator: Imbalance in buy or sell trades over 7 days, with -1 for predominantly sell trades and +1 for buy trades.\n",
            "- tranche_size_indicator: Assesses bond stress by the direction of trades and tranche size, ranging from 0 (large tranche) to 1 (small tranche).\n",
            "\n",
            "###Question:\n",
            "Given the feature value dict as:\n",
            "{'news_sentiment': 0.3931444486731639, 'broker_count_imbalance': 0.1243619871996783, 'volume_indicator': 0.6778892697073087, 'benchmark_price_difference': 0.4977762417709135, 'trade_count_imbalance': -0.7206982745760815, 'one_sided_trade_indicator': -0.6800763028141159, 'tranche_size_indicator': 0.7248691201811168}\n",
            "Return the correct option for classifying stress index from the following options based on above features. Do not generate anything else apart from the option.\n",
            "(A) 0.0-0.1\n",
            "(B) 0.7-0.8\n",
            "(C) 0.1-0.2\n",
            "(D) 0.9-1.0\n",
            "(E) 0.5-0.6\n",
            "(F) 0.3-0.4\n",
            "(G) 0.4-0.5\n",
            "(H) 0.6-0.7\n",
            "(I) 0.8-0.9\n",
            "(J) 0.2-0.3\n",
            "\n",
            "###Answer:\n",
            "E\n",
            "\n"
          ]
        }
      ]
    },
    {
      "cell_type": "code",
      "source": [
        "def transform(row):\n",
        "  global base_instruction, list_option_choices, list_stress_index_bucket, bucket_col,base_answer\n",
        "  if row.name==0:\n",
        "    return base_instruction,base_answer\n",
        "  else:\n",
        "    global feature_cols\n",
        "    instruction_prompt=base_instruction\n",
        "    instruction_prompt+=f'''###Question:\n",
        "Given the feature value dict as:\n",
        "{str(row[feature_cols].to_dict())}\n",
        "Return the correct option for classifying stress index from the following options based on above features. Do not generate anything else apart from the option.\n",
        "'''\n",
        "    choice_prompt=''''''\n",
        "    for i,j in zip(list_option_choices,shuffle_list(list_stress_index_bucket)):\n",
        "        choice_prompt+=f'({i}) {j}\\n'\n",
        "        if j==row[bucket_col]:\n",
        "          answer=i\n",
        "    instruction_prompt+=choice_prompt\n",
        "    instruction_prompt+='''\n",
        "###Answer:\n",
        "'''\n",
        "    return instruction_prompt,answer\n"
      ],
      "metadata": {
        "id": "4HVDNt81rFny"
      },
      "execution_count": 27,
      "outputs": []
    },
    {
      "cell_type": "code",
      "source": [
        "df_stress_index[['row_prompt','answer_label']]=df_stress_index.apply(lambda x:transform(x),axis=1,result_type='expand')"
      ],
      "metadata": {
        "id": "rs-12t_7uv0N"
      },
      "execution_count": 28,
      "outputs": []
    },
    {
      "cell_type": "code",
      "source": [
        "df_stress_index.to_csv(\"df_stress_index_hf_prompt.csv\", index = False)"
      ],
      "metadata": {
        "id": "MlGAEHR_xGx9"
      },
      "execution_count": null,
      "outputs": []
    },
    {
      "cell_type": "code",
      "source": [
        "df_stress_index_hf_prompt=pd.read_csv('df_stress_index_hf_prompt.csv',index_col=False,skiprows=[1]).head(500)"
      ],
      "metadata": {
        "id": "FtqbjGNxgqd6"
      },
      "execution_count": 21,
      "outputs": []
    },
    {
      "cell_type": "code",
      "source": [
        "df_stress_index_hf_prompt"
      ],
      "metadata": {
        "colab": {
          "base_uri": "https://localhost:8080/",
          "height": 791
        },
        "id": "g1mmFkkriTP0",
        "outputId": "1c13812b-588b-4e59-a5ba-3816895d1b14"
      },
      "execution_count": 22,
      "outputs": [
        {
          "output_type": "execute_result",
          "data": {
            "text/plain": [
              "     news_sentiment  broker_count_imbalance  volume_indicator  \\\n",
              "0          0.772496                0.369376         -0.877238   \n",
              "1         -0.189353                0.190013         -0.485352   \n",
              "2          0.219090               -0.577930          0.876170   \n",
              "3          0.038766                0.474529          0.345526   \n",
              "4          0.516110                0.116815          0.291659   \n",
              "..              ...                     ...               ...   \n",
              "495        0.482549                0.462167         -0.056942   \n",
              "496        0.602696               -0.716373         -0.327052   \n",
              "497       -0.038043               -0.280688          0.343401   \n",
              "498       -0.353739               -0.750163         -0.395274   \n",
              "499        0.575973               -0.681775          0.077665   \n",
              "\n",
              "     benchmark_price_difference  trade_count_imbalance  \\\n",
              "0                      0.139748               0.851864   \n",
              "1                     -0.364914              -0.183833   \n",
              "2                      0.495462               0.182495   \n",
              "3                     -0.153370              -0.020692   \n",
              "4                      0.274316               0.423730   \n",
              "..                          ...                    ...   \n",
              "495                    0.549445              -0.474956   \n",
              "496                   -0.636008               0.412657   \n",
              "497                    0.792458               0.177225   \n",
              "498                   -0.555730               0.389063   \n",
              "499                    0.035716               0.428525   \n",
              "\n",
              "     one_sided_trade_indicator  tranche_size_indicator  stress_index  \\\n",
              "0                    -0.257519                0.586063      0.623805   \n",
              "1                    -0.235899                0.356616      0.305677   \n",
              "2                     0.094340                0.106455      0.599768   \n",
              "3                     0.238055                0.432594      0.594587   \n",
              "4                     0.356209                0.565163      0.745988   \n",
              "..                         ...                     ...           ...   \n",
              "495                  -0.847622                0.622528      0.515837   \n",
              "496                   0.225904                0.114889      0.380759   \n",
              "497                   0.048887                0.954874      0.676453   \n",
              "498                   0.783076                0.613359      0.387621   \n",
              "499                   0.127583                0.833640      0.599927   \n",
              "\n",
              "    stress_index_bucket                                         row_prompt  \\\n",
              "0               0.6-0.7  ###Instruction:\\nYou are fixed income corporat...   \n",
              "1               0.3-0.4  ###Instruction:\\nYou are fixed income corporat...   \n",
              "2               0.5-0.6  ###Instruction:\\nYou are fixed income corporat...   \n",
              "3               0.5-0.6  ###Instruction:\\nYou are fixed income corporat...   \n",
              "4               0.7-0.8  ###Instruction:\\nYou are fixed income corporat...   \n",
              "..                  ...                                                ...   \n",
              "495             0.5-0.6  ###Instruction:\\nYou are fixed income corporat...   \n",
              "496             0.3-0.4  ###Instruction:\\nYou are fixed income corporat...   \n",
              "497             0.6-0.7  ###Instruction:\\nYou are fixed income corporat...   \n",
              "498             0.3-0.4  ###Instruction:\\nYou are fixed income corporat...   \n",
              "499             0.5-0.6  ###Instruction:\\nYou are fixed income corporat...   \n",
              "\n",
              "    answer_label  \n",
              "0              D  \n",
              "1              F  \n",
              "2              F  \n",
              "3              I  \n",
              "4              B  \n",
              "..           ...  \n",
              "495            E  \n",
              "496            I  \n",
              "497            F  \n",
              "498            A  \n",
              "499            A  \n",
              "\n",
              "[500 rows x 11 columns]"
            ],
            "text/html": [
              "\n",
              "  <div id=\"df-8b2b7b95-01d1-43fa-9670-f9f50a64618f\" class=\"colab-df-container\">\n",
              "    <div>\n",
              "<style scoped>\n",
              "    .dataframe tbody tr th:only-of-type {\n",
              "        vertical-align: middle;\n",
              "    }\n",
              "\n",
              "    .dataframe tbody tr th {\n",
              "        vertical-align: top;\n",
              "    }\n",
              "\n",
              "    .dataframe thead th {\n",
              "        text-align: right;\n",
              "    }\n",
              "</style>\n",
              "<table border=\"1\" class=\"dataframe\">\n",
              "  <thead>\n",
              "    <tr style=\"text-align: right;\">\n",
              "      <th></th>\n",
              "      <th>news_sentiment</th>\n",
              "      <th>broker_count_imbalance</th>\n",
              "      <th>volume_indicator</th>\n",
              "      <th>benchmark_price_difference</th>\n",
              "      <th>trade_count_imbalance</th>\n",
              "      <th>one_sided_trade_indicator</th>\n",
              "      <th>tranche_size_indicator</th>\n",
              "      <th>stress_index</th>\n",
              "      <th>stress_index_bucket</th>\n",
              "      <th>row_prompt</th>\n",
              "      <th>answer_label</th>\n",
              "    </tr>\n",
              "  </thead>\n",
              "  <tbody>\n",
              "    <tr>\n",
              "      <th>0</th>\n",
              "      <td>0.772496</td>\n",
              "      <td>0.369376</td>\n",
              "      <td>-0.877238</td>\n",
              "      <td>0.139748</td>\n",
              "      <td>0.851864</td>\n",
              "      <td>-0.257519</td>\n",
              "      <td>0.586063</td>\n",
              "      <td>0.623805</td>\n",
              "      <td>0.6-0.7</td>\n",
              "      <td>###Instruction:\\nYou are fixed income corporat...</td>\n",
              "      <td>D</td>\n",
              "    </tr>\n",
              "    <tr>\n",
              "      <th>1</th>\n",
              "      <td>-0.189353</td>\n",
              "      <td>0.190013</td>\n",
              "      <td>-0.485352</td>\n",
              "      <td>-0.364914</td>\n",
              "      <td>-0.183833</td>\n",
              "      <td>-0.235899</td>\n",
              "      <td>0.356616</td>\n",
              "      <td>0.305677</td>\n",
              "      <td>0.3-0.4</td>\n",
              "      <td>###Instruction:\\nYou are fixed income corporat...</td>\n",
              "      <td>F</td>\n",
              "    </tr>\n",
              "    <tr>\n",
              "      <th>2</th>\n",
              "      <td>0.219090</td>\n",
              "      <td>-0.577930</td>\n",
              "      <td>0.876170</td>\n",
              "      <td>0.495462</td>\n",
              "      <td>0.182495</td>\n",
              "      <td>0.094340</td>\n",
              "      <td>0.106455</td>\n",
              "      <td>0.599768</td>\n",
              "      <td>0.5-0.6</td>\n",
              "      <td>###Instruction:\\nYou are fixed income corporat...</td>\n",
              "      <td>F</td>\n",
              "    </tr>\n",
              "    <tr>\n",
              "      <th>3</th>\n",
              "      <td>0.038766</td>\n",
              "      <td>0.474529</td>\n",
              "      <td>0.345526</td>\n",
              "      <td>-0.153370</td>\n",
              "      <td>-0.020692</td>\n",
              "      <td>0.238055</td>\n",
              "      <td>0.432594</td>\n",
              "      <td>0.594587</td>\n",
              "      <td>0.5-0.6</td>\n",
              "      <td>###Instruction:\\nYou are fixed income corporat...</td>\n",
              "      <td>I</td>\n",
              "    </tr>\n",
              "    <tr>\n",
              "      <th>4</th>\n",
              "      <td>0.516110</td>\n",
              "      <td>0.116815</td>\n",
              "      <td>0.291659</td>\n",
              "      <td>0.274316</td>\n",
              "      <td>0.423730</td>\n",
              "      <td>0.356209</td>\n",
              "      <td>0.565163</td>\n",
              "      <td>0.745988</td>\n",
              "      <td>0.7-0.8</td>\n",
              "      <td>###Instruction:\\nYou are fixed income corporat...</td>\n",
              "      <td>B</td>\n",
              "    </tr>\n",
              "    <tr>\n",
              "      <th>...</th>\n",
              "      <td>...</td>\n",
              "      <td>...</td>\n",
              "      <td>...</td>\n",
              "      <td>...</td>\n",
              "      <td>...</td>\n",
              "      <td>...</td>\n",
              "      <td>...</td>\n",
              "      <td>...</td>\n",
              "      <td>...</td>\n",
              "      <td>...</td>\n",
              "      <td>...</td>\n",
              "    </tr>\n",
              "    <tr>\n",
              "      <th>495</th>\n",
              "      <td>0.482549</td>\n",
              "      <td>0.462167</td>\n",
              "      <td>-0.056942</td>\n",
              "      <td>0.549445</td>\n",
              "      <td>-0.474956</td>\n",
              "      <td>-0.847622</td>\n",
              "      <td>0.622528</td>\n",
              "      <td>0.515837</td>\n",
              "      <td>0.5-0.6</td>\n",
              "      <td>###Instruction:\\nYou are fixed income corporat...</td>\n",
              "      <td>E</td>\n",
              "    </tr>\n",
              "    <tr>\n",
              "      <th>496</th>\n",
              "      <td>0.602696</td>\n",
              "      <td>-0.716373</td>\n",
              "      <td>-0.327052</td>\n",
              "      <td>-0.636008</td>\n",
              "      <td>0.412657</td>\n",
              "      <td>0.225904</td>\n",
              "      <td>0.114889</td>\n",
              "      <td>0.380759</td>\n",
              "      <td>0.3-0.4</td>\n",
              "      <td>###Instruction:\\nYou are fixed income corporat...</td>\n",
              "      <td>I</td>\n",
              "    </tr>\n",
              "    <tr>\n",
              "      <th>497</th>\n",
              "      <td>-0.038043</td>\n",
              "      <td>-0.280688</td>\n",
              "      <td>0.343401</td>\n",
              "      <td>0.792458</td>\n",
              "      <td>0.177225</td>\n",
              "      <td>0.048887</td>\n",
              "      <td>0.954874</td>\n",
              "      <td>0.676453</td>\n",
              "      <td>0.6-0.7</td>\n",
              "      <td>###Instruction:\\nYou are fixed income corporat...</td>\n",
              "      <td>F</td>\n",
              "    </tr>\n",
              "    <tr>\n",
              "      <th>498</th>\n",
              "      <td>-0.353739</td>\n",
              "      <td>-0.750163</td>\n",
              "      <td>-0.395274</td>\n",
              "      <td>-0.555730</td>\n",
              "      <td>0.389063</td>\n",
              "      <td>0.783076</td>\n",
              "      <td>0.613359</td>\n",
              "      <td>0.387621</td>\n",
              "      <td>0.3-0.4</td>\n",
              "      <td>###Instruction:\\nYou are fixed income corporat...</td>\n",
              "      <td>A</td>\n",
              "    </tr>\n",
              "    <tr>\n",
              "      <th>499</th>\n",
              "      <td>0.575973</td>\n",
              "      <td>-0.681775</td>\n",
              "      <td>0.077665</td>\n",
              "      <td>0.035716</td>\n",
              "      <td>0.428525</td>\n",
              "      <td>0.127583</td>\n",
              "      <td>0.833640</td>\n",
              "      <td>0.599927</td>\n",
              "      <td>0.5-0.6</td>\n",
              "      <td>###Instruction:\\nYou are fixed income corporat...</td>\n",
              "      <td>A</td>\n",
              "    </tr>\n",
              "  </tbody>\n",
              "</table>\n",
              "<p>500 rows × 11 columns</p>\n",
              "</div>\n",
              "    <div class=\"colab-df-buttons\">\n",
              "\n",
              "  <div class=\"colab-df-container\">\n",
              "    <button class=\"colab-df-convert\" onclick=\"convertToInteractive('df-8b2b7b95-01d1-43fa-9670-f9f50a64618f')\"\n",
              "            title=\"Convert this dataframe to an interactive table.\"\n",
              "            style=\"display:none;\">\n",
              "\n",
              "  <svg xmlns=\"http://www.w3.org/2000/svg\" height=\"24px\" viewBox=\"0 -960 960 960\">\n",
              "    <path d=\"M120-120v-720h720v720H120Zm60-500h600v-160H180v160Zm220 220h160v-160H400v160Zm0 220h160v-160H400v160ZM180-400h160v-160H180v160Zm440 0h160v-160H620v160ZM180-180h160v-160H180v160Zm440 0h160v-160H620v160Z\"/>\n",
              "  </svg>\n",
              "    </button>\n",
              "\n",
              "  <style>\n",
              "    .colab-df-container {\n",
              "      display:flex;\n",
              "      gap: 12px;\n",
              "    }\n",
              "\n",
              "    .colab-df-convert {\n",
              "      background-color: #E8F0FE;\n",
              "      border: none;\n",
              "      border-radius: 50%;\n",
              "      cursor: pointer;\n",
              "      display: none;\n",
              "      fill: #1967D2;\n",
              "      height: 32px;\n",
              "      padding: 0 0 0 0;\n",
              "      width: 32px;\n",
              "    }\n",
              "\n",
              "    .colab-df-convert:hover {\n",
              "      background-color: #E2EBFA;\n",
              "      box-shadow: 0px 1px 2px rgba(60, 64, 67, 0.3), 0px 1px 3px 1px rgba(60, 64, 67, 0.15);\n",
              "      fill: #174EA6;\n",
              "    }\n",
              "\n",
              "    .colab-df-buttons div {\n",
              "      margin-bottom: 4px;\n",
              "    }\n",
              "\n",
              "    [theme=dark] .colab-df-convert {\n",
              "      background-color: #3B4455;\n",
              "      fill: #D2E3FC;\n",
              "    }\n",
              "\n",
              "    [theme=dark] .colab-df-convert:hover {\n",
              "      background-color: #434B5C;\n",
              "      box-shadow: 0px 1px 3px 1px rgba(0, 0, 0, 0.15);\n",
              "      filter: drop-shadow(0px 1px 2px rgba(0, 0, 0, 0.3));\n",
              "      fill: #FFFFFF;\n",
              "    }\n",
              "  </style>\n",
              "\n",
              "    <script>\n",
              "      const buttonEl =\n",
              "        document.querySelector('#df-8b2b7b95-01d1-43fa-9670-f9f50a64618f button.colab-df-convert');\n",
              "      buttonEl.style.display =\n",
              "        google.colab.kernel.accessAllowed ? 'block' : 'none';\n",
              "\n",
              "      async function convertToInteractive(key) {\n",
              "        const element = document.querySelector('#df-8b2b7b95-01d1-43fa-9670-f9f50a64618f');\n",
              "        const dataTable =\n",
              "          await google.colab.kernel.invokeFunction('convertToInteractive',\n",
              "                                                    [key], {});\n",
              "        if (!dataTable) return;\n",
              "\n",
              "        const docLinkHtml = 'Like what you see? Visit the ' +\n",
              "          '<a target=\"_blank\" href=https://colab.research.google.com/notebooks/data_table.ipynb>data table notebook</a>'\n",
              "          + ' to learn more about interactive tables.';\n",
              "        element.innerHTML = '';\n",
              "        dataTable['output_type'] = 'display_data';\n",
              "        await google.colab.output.renderOutput(dataTable, element);\n",
              "        const docLink = document.createElement('div');\n",
              "        docLink.innerHTML = docLinkHtml;\n",
              "        element.appendChild(docLink);\n",
              "      }\n",
              "    </script>\n",
              "  </div>\n",
              "\n",
              "\n",
              "<div id=\"df-f12be1e0-a7c6-44b5-8aae-dfeb0129a8eb\">\n",
              "  <button class=\"colab-df-quickchart\" onclick=\"quickchart('df-f12be1e0-a7c6-44b5-8aae-dfeb0129a8eb')\"\n",
              "            title=\"Suggest charts\"\n",
              "            style=\"display:none;\">\n",
              "\n",
              "<svg xmlns=\"http://www.w3.org/2000/svg\" height=\"24px\"viewBox=\"0 0 24 24\"\n",
              "     width=\"24px\">\n",
              "    <g>\n",
              "        <path d=\"M19 3H5c-1.1 0-2 .9-2 2v14c0 1.1.9 2 2 2h14c1.1 0 2-.9 2-2V5c0-1.1-.9-2-2-2zM9 17H7v-7h2v7zm4 0h-2V7h2v10zm4 0h-2v-4h2v4z\"/>\n",
              "    </g>\n",
              "</svg>\n",
              "  </button>\n",
              "\n",
              "<style>\n",
              "  .colab-df-quickchart {\n",
              "      --bg-color: #E8F0FE;\n",
              "      --fill-color: #1967D2;\n",
              "      --hover-bg-color: #E2EBFA;\n",
              "      --hover-fill-color: #174EA6;\n",
              "      --disabled-fill-color: #AAA;\n",
              "      --disabled-bg-color: #DDD;\n",
              "  }\n",
              "\n",
              "  [theme=dark] .colab-df-quickchart {\n",
              "      --bg-color: #3B4455;\n",
              "      --fill-color: #D2E3FC;\n",
              "      --hover-bg-color: #434B5C;\n",
              "      --hover-fill-color: #FFFFFF;\n",
              "      --disabled-bg-color: #3B4455;\n",
              "      --disabled-fill-color: #666;\n",
              "  }\n",
              "\n",
              "  .colab-df-quickchart {\n",
              "    background-color: var(--bg-color);\n",
              "    border: none;\n",
              "    border-radius: 50%;\n",
              "    cursor: pointer;\n",
              "    display: none;\n",
              "    fill: var(--fill-color);\n",
              "    height: 32px;\n",
              "    padding: 0;\n",
              "    width: 32px;\n",
              "  }\n",
              "\n",
              "  .colab-df-quickchart:hover {\n",
              "    background-color: var(--hover-bg-color);\n",
              "    box-shadow: 0 1px 2px rgba(60, 64, 67, 0.3), 0 1px 3px 1px rgba(60, 64, 67, 0.15);\n",
              "    fill: var(--button-hover-fill-color);\n",
              "  }\n",
              "\n",
              "  .colab-df-quickchart-complete:disabled,\n",
              "  .colab-df-quickchart-complete:disabled:hover {\n",
              "    background-color: var(--disabled-bg-color);\n",
              "    fill: var(--disabled-fill-color);\n",
              "    box-shadow: none;\n",
              "  }\n",
              "\n",
              "  .colab-df-spinner {\n",
              "    border: 2px solid var(--fill-color);\n",
              "    border-color: transparent;\n",
              "    border-bottom-color: var(--fill-color);\n",
              "    animation:\n",
              "      spin 1s steps(1) infinite;\n",
              "  }\n",
              "\n",
              "  @keyframes spin {\n",
              "    0% {\n",
              "      border-color: transparent;\n",
              "      border-bottom-color: var(--fill-color);\n",
              "      border-left-color: var(--fill-color);\n",
              "    }\n",
              "    20% {\n",
              "      border-color: transparent;\n",
              "      border-left-color: var(--fill-color);\n",
              "      border-top-color: var(--fill-color);\n",
              "    }\n",
              "    30% {\n",
              "      border-color: transparent;\n",
              "      border-left-color: var(--fill-color);\n",
              "      border-top-color: var(--fill-color);\n",
              "      border-right-color: var(--fill-color);\n",
              "    }\n",
              "    40% {\n",
              "      border-color: transparent;\n",
              "      border-right-color: var(--fill-color);\n",
              "      border-top-color: var(--fill-color);\n",
              "    }\n",
              "    60% {\n",
              "      border-color: transparent;\n",
              "      border-right-color: var(--fill-color);\n",
              "    }\n",
              "    80% {\n",
              "      border-color: transparent;\n",
              "      border-right-color: var(--fill-color);\n",
              "      border-bottom-color: var(--fill-color);\n",
              "    }\n",
              "    90% {\n",
              "      border-color: transparent;\n",
              "      border-bottom-color: var(--fill-color);\n",
              "    }\n",
              "  }\n",
              "</style>\n",
              "\n",
              "  <script>\n",
              "    async function quickchart(key) {\n",
              "      const quickchartButtonEl =\n",
              "        document.querySelector('#' + key + ' button');\n",
              "      quickchartButtonEl.disabled = true;  // To prevent multiple clicks.\n",
              "      quickchartButtonEl.classList.add('colab-df-spinner');\n",
              "      try {\n",
              "        const charts = await google.colab.kernel.invokeFunction(\n",
              "            'suggestCharts', [key], {});\n",
              "      } catch (error) {\n",
              "        console.error('Error during call to suggestCharts:', error);\n",
              "      }\n",
              "      quickchartButtonEl.classList.remove('colab-df-spinner');\n",
              "      quickchartButtonEl.classList.add('colab-df-quickchart-complete');\n",
              "    }\n",
              "    (() => {\n",
              "      let quickchartButtonEl =\n",
              "        document.querySelector('#df-f12be1e0-a7c6-44b5-8aae-dfeb0129a8eb button');\n",
              "      quickchartButtonEl.style.display =\n",
              "        google.colab.kernel.accessAllowed ? 'block' : 'none';\n",
              "    })();\n",
              "  </script>\n",
              "</div>\n",
              "\n",
              "  <div id=\"id_85bc86d3-9e48-4172-9425-5d563763b737\">\n",
              "    <style>\n",
              "      .colab-df-generate {\n",
              "        background-color: #E8F0FE;\n",
              "        border: none;\n",
              "        border-radius: 50%;\n",
              "        cursor: pointer;\n",
              "        display: none;\n",
              "        fill: #1967D2;\n",
              "        height: 32px;\n",
              "        padding: 0 0 0 0;\n",
              "        width: 32px;\n",
              "      }\n",
              "\n",
              "      .colab-df-generate:hover {\n",
              "        background-color: #E2EBFA;\n",
              "        box-shadow: 0px 1px 2px rgba(60, 64, 67, 0.3), 0px 1px 3px 1px rgba(60, 64, 67, 0.15);\n",
              "        fill: #174EA6;\n",
              "      }\n",
              "\n",
              "      [theme=dark] .colab-df-generate {\n",
              "        background-color: #3B4455;\n",
              "        fill: #D2E3FC;\n",
              "      }\n",
              "\n",
              "      [theme=dark] .colab-df-generate:hover {\n",
              "        background-color: #434B5C;\n",
              "        box-shadow: 0px 1px 3px 1px rgba(0, 0, 0, 0.15);\n",
              "        filter: drop-shadow(0px 1px 2px rgba(0, 0, 0, 0.3));\n",
              "        fill: #FFFFFF;\n",
              "      }\n",
              "    </style>\n",
              "    <button class=\"colab-df-generate\" onclick=\"generateWithVariable('df_stress_index_hf_prompt')\"\n",
              "            title=\"Generate code using this dataframe.\"\n",
              "            style=\"display:none;\">\n",
              "\n",
              "  <svg xmlns=\"http://www.w3.org/2000/svg\" height=\"24px\"viewBox=\"0 0 24 24\"\n",
              "       width=\"24px\">\n",
              "    <path d=\"M7,19H8.4L18.45,9,17,7.55,7,17.6ZM5,21V16.75L18.45,3.32a2,2,0,0,1,2.83,0l1.4,1.43a1.91,1.91,0,0,1,.58,1.4,1.91,1.91,0,0,1-.58,1.4L9.25,21ZM18.45,9,17,7.55Zm-12,3A5.31,5.31,0,0,0,4.9,8.1,5.31,5.31,0,0,0,1,6.5,5.31,5.31,0,0,0,4.9,4.9,5.31,5.31,0,0,0,6.5,1,5.31,5.31,0,0,0,8.1,4.9,5.31,5.31,0,0,0,12,6.5,5.46,5.46,0,0,0,6.5,12Z\"/>\n",
              "  </svg>\n",
              "    </button>\n",
              "    <script>\n",
              "      (() => {\n",
              "      const buttonEl =\n",
              "        document.querySelector('#id_85bc86d3-9e48-4172-9425-5d563763b737 button.colab-df-generate');\n",
              "      buttonEl.style.display =\n",
              "        google.colab.kernel.accessAllowed ? 'block' : 'none';\n",
              "\n",
              "      buttonEl.onclick = () => {\n",
              "        google.colab.notebook.generateWithVariable('df_stress_index_hf_prompt');\n",
              "      }\n",
              "      })();\n",
              "    </script>\n",
              "  </div>\n",
              "\n",
              "    </div>\n",
              "  </div>\n"
            ],
            "application/vnd.google.colaboratory.intrinsic+json": {
              "type": "dataframe",
              "variable_name": "df_stress_index_hf_prompt",
              "summary": "{\n  \"name\": \"df_stress_index_hf_prompt\",\n  \"rows\": 500,\n  \"fields\": [\n    {\n      \"column\": \"news_sentiment\",\n      \"properties\": {\n        \"dtype\": \"number\",\n        \"std\": 0.441158041342508,\n        \"min\": -0.9516060960969424,\n        \"max\": 0.923650281338516,\n        \"num_unique_values\": 500,\n        \"samples\": [\n          -0.3887619985140965,\n          0.7694825809706678,\n          0.699205195559911\n        ],\n        \"semantic_type\": \"\",\n        \"description\": \"\"\n      }\n    },\n    {\n      \"column\": \"broker_count_imbalance\",\n      \"properties\": {\n        \"dtype\": \"number\",\n        \"std\": 0.43672976027149335,\n        \"min\": -0.9693203909908178,\n        \"max\": 0.9104062592364884,\n        \"num_unique_values\": 500,\n        \"samples\": [\n          -0.0606767961053913,\n          0.0707059977589015,\n          -0.0468015469890849\n        ],\n        \"semantic_type\": \"\",\n        \"description\": \"\"\n      }\n    },\n    {\n      \"column\": \"volume_indicator\",\n      \"properties\": {\n        \"dtype\": \"number\",\n        \"std\": 0.44474831006820253,\n        \"min\": -0.9543390110326874,\n        \"max\": 0.954411248218763,\n        \"num_unique_values\": 500,\n        \"samples\": [\n          -0.1259952573085839,\n          0.0366599351757441,\n          -0.6852611098779592\n        ],\n        \"semantic_type\": \"\",\n        \"description\": \"\"\n      }\n    },\n    {\n      \"column\": \"benchmark_price_difference\",\n      \"properties\": {\n        \"dtype\": \"number\",\n        \"std\": 0.4465612972278753,\n        \"min\": -0.9543318739819816,\n        \"max\": 0.9721446018628092,\n        \"num_unique_values\": 500,\n        \"samples\": [\n          -0.1293734097682204,\n          0.4469326937849136,\n          0.6735690067742381\n        ],\n        \"semantic_type\": \"\",\n        \"description\": \"\"\n      }\n    },\n    {\n      \"column\": \"trade_count_imbalance\",\n      \"properties\": {\n        \"dtype\": \"number\",\n        \"std\": 0.4273062711135748,\n        \"min\": -0.9209474171372404,\n        \"max\": 0.974419514409722,\n        \"num_unique_values\": 500,\n        \"samples\": [\n          0.160812258296914,\n          -0.5743214532439791,\n          0.3726052369229145\n        ],\n        \"semantic_type\": \"\",\n        \"description\": \"\"\n      }\n    },\n    {\n      \"column\": \"one_sided_trade_indicator\",\n      \"properties\": {\n        \"dtype\": \"number\",\n        \"std\": 0.4446818664670258,\n        \"min\": -0.9552321478784382,\n        \"max\": 0.932063605839331,\n        \"num_unique_values\": 500,\n        \"samples\": [\n          -0.5824296989797794,\n          0.3692361537266051,\n          0.0960374001162118\n        ],\n        \"semantic_type\": \"\",\n        \"description\": \"\"\n      }\n    },\n    {\n      \"column\": \"tranche_size_indicator\",\n      \"properties\": {\n        \"dtype\": \"number\",\n        \"std\": 0.22290908460573453,\n        \"min\": 0.0125560044912875,\n        \"max\": 0.997207453303847,\n        \"num_unique_values\": 500,\n        \"samples\": [\n          0.4216355127033784,\n          0.4594719506273022,\n          0.7287290964199318\n        ],\n        \"semantic_type\": \"\",\n        \"description\": \"\"\n      }\n    },\n    {\n      \"column\": \"stress_index\",\n      \"properties\": {\n        \"dtype\": \"number\",\n        \"std\": 0.13875873174185588,\n        \"min\": 0.0,\n        \"max\": 0.9330145354896288,\n        \"num_unique_values\": 500,\n        \"samples\": [\n          0.3321634785765597,\n          0.6229616701310414,\n          0.6560691381662945\n        ],\n        \"semantic_type\": \"\",\n        \"description\": \"\"\n      }\n    },\n    {\n      \"column\": \"stress_index_bucket\",\n      \"properties\": {\n        \"dtype\": \"category\",\n        \"num_unique_values\": 10,\n        \"samples\": [\n          \"0.0-0.1\",\n          \"0.3-0.4\",\n          \"0.4-0.5\"\n        ],\n        \"semantic_type\": \"\",\n        \"description\": \"\"\n      }\n    },\n    {\n      \"column\": \"row_prompt\",\n      \"properties\": {\n        \"dtype\": \"string\",\n        \"num_unique_values\": 500,\n        \"samples\": [\n          \"###Instruction:\\nYou are fixed income corporate bond trader. Use the feature values that I will provide and select the correct option for classifying the stress index (range of 0 to 1) into one of the defined buckets.\\nFeature descriptions:\\n- news_sentiment: Scale from -1 (negative) to +1 (positive) reflecting the sentiment in news about the bond issuer over the past 7 days.\\n- broker_count_imbalance: Difference in broker count buying or selling the same security in the last 2 days, ranging from -1 (more selling) to +1 (more buying).\\n- volume_indicator: Indicates if a bond is heavily traded in the last 2 days, with -1 for high selling volume and +1 for high buying volume.\\n- benchmark_price_difference: Compares a bond's quoted price to the benchmark, ranging from -1 (below benchmark) to +1 (above benchmark), indicating price stress.\\n- trade_count_imbalance: Difference in buy and sell trades of a security over 2 days, from -1 (more sells) to +1 (more buys).\\n- one_sided_trade_indicator: Imbalance in buy or sell trades over 7 days, with -1 for predominantly sell trades and +1 for buy trades.\\n- tranche_size_indicator: Assesses bond stress by the direction of trades and tranche size, ranging from 0 (large tranche) to 1 (small tranche).\\n\\n###Question:\\nGiven the feature value dict as:\\n{'news_sentiment': 0.3931444486731639, 'broker_count_imbalance': 0.1243619871996783, 'volume_indicator': 0.6778892697073087, 'benchmark_price_difference': 0.4977762417709135, 'trade_count_imbalance': -0.7206982745760815, 'one_sided_trade_indicator': -0.6800763028141159, 'tranche_size_indicator': 0.7248691201811168}\\nReturn the correct option for classifying stress index from the following options based on above features. Do not generate anything else apart from the option.\\n(A) 0.0-0.1\\n(B) 0.7-0.8\\n(C) 0.2-0.3\\n(D) 0.8-0.9\\n(E) 0.9-1.0\\n(F) 0.1-0.2\\n(G) 0.3-0.4\\n(H) 0.5-0.6\\n(I) 0.6-0.7\\n(J) 0.4-0.5\\n\\n###Answer:\\nH\\n###Question:\\nGiven the feature value dict as:\\n{'news_sentiment': -0.3887619985140965, 'broker_count_imbalance': -0.0606767961053913, 'volume_indicator': -0.1259952573085839, 'benchmark_price_difference': -0.1293734097682204, 'trade_count_imbalance': 0.160812258296914, 'one_sided_trade_indicator': -0.5824296989797794, 'tranche_size_indicator': 0.4216355127033784}\\nReturn the correct option for classifying stress index from the following options based on above features. Do not generate anything else apart from the option.\\n(A) 0.8-0.9\\n(B) 0.7-0.8\\n(C) 0.6-0.7\\n(D) 0.0-0.1\\n(E) 0.2-0.3\\n(F) 0.3-0.4\\n(G) 0.1-0.2\\n(H) 0.5-0.6\\n(I) 0.4-0.5\\n(J) 0.9-1.0\\n\\n###Answer:\\n\",\n          \"###Instruction:\\nYou are fixed income corporate bond trader. Use the feature values that I will provide and select the correct option for classifying the stress index (range of 0 to 1) into one of the defined buckets.\\nFeature descriptions:\\n- news_sentiment: Scale from -1 (negative) to +1 (positive) reflecting the sentiment in news about the bond issuer over the past 7 days.\\n- broker_count_imbalance: Difference in broker count buying or selling the same security in the last 2 days, ranging from -1 (more selling) to +1 (more buying).\\n- volume_indicator: Indicates if a bond is heavily traded in the last 2 days, with -1 for high selling volume and +1 for high buying volume.\\n- benchmark_price_difference: Compares a bond's quoted price to the benchmark, ranging from -1 (below benchmark) to +1 (above benchmark), indicating price stress.\\n- trade_count_imbalance: Difference in buy and sell trades of a security over 2 days, from -1 (more sells) to +1 (more buys).\\n- one_sided_trade_indicator: Imbalance in buy or sell trades over 7 days, with -1 for predominantly sell trades and +1 for buy trades.\\n- tranche_size_indicator: Assesses bond stress by the direction of trades and tranche size, ranging from 0 (large tranche) to 1 (small tranche).\\n\\n###Question:\\nGiven the feature value dict as:\\n{'news_sentiment': 0.3931444486731639, 'broker_count_imbalance': 0.1243619871996783, 'volume_indicator': 0.6778892697073087, 'benchmark_price_difference': 0.4977762417709135, 'trade_count_imbalance': -0.7206982745760815, 'one_sided_trade_indicator': -0.6800763028141159, 'tranche_size_indicator': 0.7248691201811168}\\nReturn the correct option for classifying stress index from the following options based on above features. Do not generate anything else apart from the option.\\n(A) 0.0-0.1\\n(B) 0.7-0.8\\n(C) 0.2-0.3\\n(D) 0.8-0.9\\n(E) 0.9-1.0\\n(F) 0.1-0.2\\n(G) 0.3-0.4\\n(H) 0.5-0.6\\n(I) 0.6-0.7\\n(J) 0.4-0.5\\n\\n###Answer:\\nH\\n###Question:\\nGiven the feature value dict as:\\n{'news_sentiment': 0.7694825809706678, 'broker_count_imbalance': 0.0707059977589015, 'volume_indicator': 0.0366599351757441, 'benchmark_price_difference': 0.4469326937849136, 'trade_count_imbalance': -0.5743214532439791, 'one_sided_trade_indicator': 0.3692361537266051, 'tranche_size_indicator': 0.4594719506273022}\\nReturn the correct option for classifying stress index from the following options based on above features. Do not generate anything else apart from the option.\\n(A) 0.6-0.7\\n(B) 0.8-0.9\\n(C) 0.0-0.1\\n(D) 0.3-0.4\\n(E) 0.7-0.8\\n(F) 0.5-0.6\\n(G) 0.4-0.5\\n(H) 0.2-0.3\\n(I) 0.1-0.2\\n(J) 0.9-1.0\\n\\n###Answer:\\n\",\n          \"###Instruction:\\nYou are fixed income corporate bond trader. Use the feature values that I will provide and select the correct option for classifying the stress index (range of 0 to 1) into one of the defined buckets.\\nFeature descriptions:\\n- news_sentiment: Scale from -1 (negative) to +1 (positive) reflecting the sentiment in news about the bond issuer over the past 7 days.\\n- broker_count_imbalance: Difference in broker count buying or selling the same security in the last 2 days, ranging from -1 (more selling) to +1 (more buying).\\n- volume_indicator: Indicates if a bond is heavily traded in the last 2 days, with -1 for high selling volume and +1 for high buying volume.\\n- benchmark_price_difference: Compares a bond's quoted price to the benchmark, ranging from -1 (below benchmark) to +1 (above benchmark), indicating price stress.\\n- trade_count_imbalance: Difference in buy and sell trades of a security over 2 days, from -1 (more sells) to +1 (more buys).\\n- one_sided_trade_indicator: Imbalance in buy or sell trades over 7 days, with -1 for predominantly sell trades and +1 for buy trades.\\n- tranche_size_indicator: Assesses bond stress by the direction of trades and tranche size, ranging from 0 (large tranche) to 1 (small tranche).\\n\\n###Question:\\nGiven the feature value dict as:\\n{'news_sentiment': 0.3931444486731639, 'broker_count_imbalance': 0.1243619871996783, 'volume_indicator': 0.6778892697073087, 'benchmark_price_difference': 0.4977762417709135, 'trade_count_imbalance': -0.7206982745760815, 'one_sided_trade_indicator': -0.6800763028141159, 'tranche_size_indicator': 0.7248691201811168}\\nReturn the correct option for classifying stress index from the following options based on above features. Do not generate anything else apart from the option.\\n(A) 0.0-0.1\\n(B) 0.7-0.8\\n(C) 0.2-0.3\\n(D) 0.8-0.9\\n(E) 0.9-1.0\\n(F) 0.1-0.2\\n(G) 0.3-0.4\\n(H) 0.5-0.6\\n(I) 0.6-0.7\\n(J) 0.4-0.5\\n\\n###Answer:\\nH\\n###Question:\\nGiven the feature value dict as:\\n{'news_sentiment': 0.699205195559911, 'broker_count_imbalance': -0.0468015469890849, 'volume_indicator': -0.6852611098779592, 'benchmark_price_difference': 0.6735690067742381, 'trade_count_imbalance': 0.3726052369229145, 'one_sided_trade_indicator': 0.0960374001162118, 'tranche_size_indicator': 0.7287290964199318}\\nReturn the correct option for classifying stress index from the following options based on above features. Do not generate anything else apart from the option.\\n(A) 0.7-0.8\\n(B) 0.6-0.7\\n(C) 0.0-0.1\\n(D) 0.9-1.0\\n(E) 0.4-0.5\\n(F) 0.3-0.4\\n(G) 0.8-0.9\\n(H) 0.1-0.2\\n(I) 0.2-0.3\\n(J) 0.5-0.6\\n\\n###Answer:\\n\"\n        ],\n        \"semantic_type\": \"\",\n        \"description\": \"\"\n      }\n    },\n    {\n      \"column\": \"answer_label\",\n      \"properties\": {\n        \"dtype\": \"category\",\n        \"num_unique_values\": 10,\n        \"samples\": [\n          \"A\",\n          \"F\",\n          \"H\"\n        ],\n        \"semantic_type\": \"\",\n        \"description\": \"\"\n      }\n    }\n  ]\n}"
            }
          },
          "metadata": {},
          "execution_count": 22
        }
      ]
    },
    {
      "cell_type": "code",
      "source": [
        "data_splits = {'test': df_stress_index_hf_prompt}\n",
        "df_stress_index_hf_dataset = {split: Dataset.from_pandas(pd.DataFrame(df_stress_index_hf_prompt[['row_prompt','answer_label','stress_index_bucket']])) for split, data in data_splits.items()}"
      ],
      "metadata": {
        "id": "frcZB9MrkNDq"
      },
      "execution_count": 23,
      "outputs": []
    },
    {
      "cell_type": "code",
      "source": [
        "df_stress_index_hf_dataset_inference=df_stress_index_hf_dataset['test']"
      ],
      "metadata": {
        "id": "AYwsiuPPhW_L"
      },
      "execution_count": 24,
      "outputs": []
    },
    {
      "cell_type": "code",
      "source": [
        "# def model_forward(model, prompt):\n",
        "#     inputs = tokenizer(prompt, return_tensors='pt')\n",
        "#     try:\n",
        "#         outputs=model(inputs[\"input_ids\"])\n",
        "#     except:\n",
        "#         return\n",
        "#     output_logits = outputs.logits.detach().cpu()\n",
        "#     next_token_logits = output_logits[:, -1]\n",
        "#     return next_token_logits"
      ],
      "metadata": {
        "id": "89oAd-UqhYmw"
      },
      "execution_count": 34,
      "outputs": []
    },
    {
      "cell_type": "code",
      "source": [
        "def process_batch(batch):\n",
        "    \"\"\"\n",
        "    Tokenizes a batch of text inputs.\n",
        "    Args:\n",
        "        batch: A dictionary with a key 'text' containing a list of text inputs.\n",
        "    Returns:\n",
        "        A dictionary with keys 'input_ids', 'attention_mask' (and possibly others like 'token_type_ids' depending on the tokenizer).\n",
        "    \"\"\"\n",
        "    # Tokenize the text inputs in the batch. This automatically applies padding and truncation.\n",
        "    # Adjust `padding` and `truncation` as needed.\n",
        "    tokenized_inputs = tokenizer(batch[\"row_prompt\"], padding=True, truncation=True, return_tensors=\"pt\")\n",
        "\n",
        "    return tokenized_inputs\n",
        "\n",
        "def test_data_collator(batch):\n",
        "  input_ids=torch.stack([example['input_ids'] for example in batch])\n",
        "  attention_mask=torch.stack([example['attention_mask'] for example in batch])\n",
        "\n",
        "  return {'input_ids':input_ids, 'attention_mask':attention_mask}"
      ],
      "metadata": {
        "id": "7v2KsBN0sDsB"
      },
      "execution_count": 25,
      "outputs": []
    },
    {
      "cell_type": "code",
      "source": [
        "batch_size=4\n",
        "from torch.utils.data import DataLoader\n",
        "from tqdm import tqdm\n",
        "\n",
        "df_stress_index_hf_dataset_batched=df_stress_index_hf_dataset_inference.map(process_batch,batched=True,batch_size=batch_size)\n",
        "df_stress_index_hf_dataset_batched.set_format(type='torch')\n",
        "\n",
        "test_dataloader=DataLoader(\n",
        "    df_stress_index_hf_dataset_batched,\n",
        "    batch_size=batch_size,\n",
        "    collate_fn=test_data_collator\n",
        ")\n",
        "\n",
        "output_logits=[]\n",
        "for batch in tqdm(test_dataloader):\n",
        "  input_ids=batch['input_ids']\n",
        "  attention_mask=batch['attention_mask']\n",
        "\n",
        "  with torch.no_grad():\n",
        "    result=model(input_ids=input_ids,attention_mask=attention_mask,return_dict=True)\n",
        "    output_logits.append(result.logits.detach().cpu())\n",
        "    del input_ids\n",
        "    del attention_mask\n",
        "    gc.collect()\n",
        "    torch.cuda.empty_cache()"
      ],
      "metadata": {
        "colab": {
          "base_uri": "https://localhost:8080/",
          "height": 66,
          "referenced_widgets": [
            "72e99bf1f3c640c8a053809ba2de35f5",
            "3239e1a3973843d6873364d1e4c37467",
            "32037e22986b4bb2a72d68454d20f62e",
            "9d9e434f2177473785c0082d96230d97",
            "c5b7c15bb9e64946a62149a7e2857c42",
            "12899fa933fd4c94aaab6bc7ded9f577",
            "05e7ee05b9814b1685810efe6b1b4f43",
            "9cad27a67af84f85b512d39f50222bf0",
            "1be69b855cde409b9b6688dcb3c28c22",
            "52f4ff7bb0ae4c8f919f0de2ffca9068",
            "b8c07611d76d46c0ba7ca9fb427f8beb"
          ]
        },
        "id": "rk9-IL3RoBT1",
        "outputId": "9cd719aa-6816-4b59-d5df-d1c216e01629"
      },
      "execution_count": null,
      "outputs": [
        {
          "output_type": "display_data",
          "data": {
            "text/plain": [
              "Map:   0%|          | 0/500 [00:00<?, ? examples/s]"
            ],
            "application/vnd.jupyter.widget-view+json": {
              "version_major": 2,
              "version_minor": 0,
              "model_id": "72e99bf1f3c640c8a053809ba2de35f5"
            }
          },
          "metadata": {}
        },
        {
          "output_type": "stream",
          "name": "stderr",
          "text": [
            " 12%|█▏        | 15/125 [02:16<16:59,  9.27s/it]"
          ]
        }
      ]
    },
    {
      "cell_type": "code",
      "source": [
        "output_logits.shape"
      ],
      "metadata": {
        "id": "gCEZ6DDJtw-F",
        "colab": {
          "base_uri": "https://localhost:8080/"
        },
        "outputId": "0cb11d0d-d05f-4876-d338-b0a80c595c81"
      },
      "execution_count": 64,
      "outputs": [
        {
          "output_type": "execute_result",
          "data": {
            "text/plain": [
              "torch.Size([4, 889, 51200])"
            ]
          },
          "metadata": {},
          "execution_count": 64
        }
      ]
    },
    {
      "cell_type": "code",
      "source": [],
      "metadata": {
        "id": "RwfVZvbx1YHx"
      },
      "execution_count": 63,
      "outputs": []
    },
    {
      "cell_type": "code",
      "source": [],
      "metadata": {
        "id": "Ck-vb3Us1_Jp"
      },
      "execution_count": 58,
      "outputs": []
    },
    {
      "cell_type": "code",
      "source": [],
      "metadata": {
        "id": "jwkkokf9v5Vw"
      },
      "execution_count": 59,
      "outputs": []
    },
    {
      "cell_type": "code",
      "source": [],
      "metadata": {
        "colab": {
          "base_uri": "https://localhost:8080/"
        },
        "id": "J8V2LPuF2RWO",
        "outputId": "84457018-9b2b-4dab-aa5c-f775ffa47ebc"
      },
      "execution_count": 61,
      "outputs": [
        {
          "output_type": "execute_result",
          "data": {
            "text/plain": [
              "torch.Size([4, 894, 51200])"
            ]
          },
          "metadata": {},
          "execution_count": 61
        }
      ]
    },
    {
      "cell_type": "code",
      "source": [
        "tokens_\n",
        "tokenizer.convert_ids_to_tokens(torch.argmax(output_logits[:,-1,:],dim=1))"
      ],
      "metadata": {
        "colab": {
          "base_uri": "https://localhost:8080/"
        },
        "id": "W1zq8lKO2Uaz",
        "outputId": "3f5bcdbd-298a-4a7d-d46e-bc842553b8c5"
      },
      "execution_count": null,
      "outputs": [
        {
          "output_type": "execute_result",
          "data": {
            "text/plain": [
              "['ĊĊ', 'ĊĊ', 'ĊĊ', 'G']"
            ]
          },
          "metadata": {},
          "execution_count": 74
        }
      ]
    },
    {
      "cell_type": "code",
      "source": [
        "list_option_choices"
      ],
      "metadata": {
        "colab": {
          "base_uri": "https://localhost:8080/"
        },
        "id": "6hcjX_Ky6B4N",
        "outputId": "1a036901-4671-46f3-9350-50a9b839f4f7"
      },
      "execution_count": null,
      "outputs": [
        {
          "output_type": "execute_result",
          "data": {
            "text/plain": [
              "['A', 'B', 'C', 'D', 'E', 'F', 'G', 'H', 'I', 'J']"
            ]
          },
          "metadata": {},
          "execution_count": 76
        }
      ]
    },
    {
      "cell_type": "code",
      "source": [
        "tokens_of_interest= list_option_choices #the option choices corresponding to stress index buckets\n",
        "\n",
        "token_indices = tokenizer.convert_tokens_to_ids(tokens_of_interest) #get the index for the option tokens\n",
        "next_token_logits=output_logits[:,-1,:]\n",
        "indices_in_logits = [{token: next_token_logits[i,token_idx].item() for token, token_idx in zip(tokens_of_interest, token_indices)} for i in range(next_token_logits.shape[0])]\n",
        "\n",
        "label_to_softmax_dict=[dict(zip(tokens_of_interest,softmax(np.array(list(indices_in_logits[i].values()))))) for i in range(len(indices_in_logits))]"
      ],
      "metadata": {
        "id": "vZtkO_1l4Vo9"
      },
      "execution_count": null,
      "outputs": []
    },
    {
      "cell_type": "code",
      "source": [
        "label_to_softmax_dict"
      ],
      "metadata": {
        "colab": {
          "base_uri": "https://localhost:8080/"
        },
        "id": "kSGbFeT76I96",
        "outputId": "53f54d7c-61d8-48dc-c572-aa1d13b020ad"
      },
      "execution_count": null,
      "outputs": [
        {
          "output_type": "execute_result",
          "data": {
            "text/plain": [
              "[{'A': 0.35243696325275714,\n",
              "  'B': 0.0884165596633798,\n",
              "  'C': 0.13481915376228318,\n",
              "  'D': 0.0986357999738468,\n",
              "  'E': 0.06076775352422327,\n",
              "  'F': 0.04048005074696568,\n",
              "  'G': 0.03628608297387693,\n",
              "  'H': 0.05620098472869274,\n",
              "  'I': 0.10582076625946982,\n",
              "  'J': 0.026135885114504685},\n",
              " {'A': 0.34954095569369026,\n",
              "  'B': 0.07618642052523257,\n",
              "  'C': 0.1256101720584558,\n",
              "  'D': 0.10495122710510509,\n",
              "  'E': 0.07101355245552035,\n",
              "  'F': 0.04142183836452064,\n",
              "  'G': 0.03771501301830505,\n",
              "  'H': 0.053603841671350475,\n",
              "  'I': 0.11617041855614611,\n",
              "  'J': 0.02378656055167387},\n",
              " {'A': 0.3692866003965272,\n",
              "  'B': 0.08112150053658157,\n",
              "  'C': 0.12177779570821429,\n",
              "  'D': 0.10174915681019897,\n",
              "  'E': 0.06417238881431325,\n",
              "  'F': 0.04175776981815854,\n",
              "  'G': 0.03516356767610926,\n",
              "  'H': 0.054038569273123366,\n",
              "  'I': 0.10580238242979723,\n",
              "  'J': 0.025130268536976346},\n",
              " {'A': 0.11541419159884389,\n",
              "  'B': 0.06784850308889222,\n",
              "  'C': 0.09130014027083674,\n",
              "  'D': 0.07809314836317244,\n",
              "  'E': 0.12285776743745348,\n",
              "  'F': 0.11541419159884389,\n",
              "  'G': 0.18733572423652148,\n",
              "  'H': 0.03805956087023212,\n",
              "  'I': 0.12285776743745348,\n",
              "  'J': 0.0608190050977501}]"
            ]
          },
          "metadata": {},
          "execution_count": 85
        }
      ]
    },
    {
      "cell_type": "code",
      "source": [
        "indices_in_logits"
      ],
      "metadata": {
        "colab": {
          "base_uri": "https://localhost:8080/"
        },
        "id": "NWnTRHrn6KgB",
        "outputId": "f441c872-656c-402f-a8a5-1fe502d6deae"
      },
      "execution_count": null,
      "outputs": [
        {
          "output_type": "execute_result",
          "data": {
            "text/plain": [
              "{'A': 10.9765625,\n",
              " 'B': 9.59375,\n",
              " 'C': 10.015625,\n",
              " 'D': 9.703125,\n",
              " 'E': 9.21875,\n",
              " 'F': 8.8125,\n",
              " 'G': 8.703125,\n",
              " 'H': 9.140625,\n",
              " 'I': 9.7734375,\n",
              " 'J': 8.375}"
            ]
          },
          "metadata": {},
          "execution_count": 80
        }
      ]
    },
    {
      "cell_type": "code",
      "source": [],
      "metadata": {
        "id": "s_J0zD0-6WK8"
      },
      "execution_count": null,
      "outputs": []
    }
  ],
  "metadata": {
    "accelerator": "GPU",
    "colab": {
      "gpuType": "V100",
      "provenance": [],
      "include_colab_link": true
    },
    "kernelspec": {
      "display_name": "Python 3",
      "name": "python3"
    },
    "language_info": {
      "name": "python"
    },
    "widgets": {
      "application/vnd.jupyter.widget-state+json": {
        "4fec9f88c58f4577a2ddb51f7faaf3b5": {
          "model_module": "@jupyter-widgets/controls",
          "model_name": "HBoxModel",
          "model_module_version": "1.5.0",
          "state": {
            "_dom_classes": [],
            "_model_module": "@jupyter-widgets/controls",
            "_model_module_version": "1.5.0",
            "_model_name": "HBoxModel",
            "_view_count": null,
            "_view_module": "@jupyter-widgets/controls",
            "_view_module_version": "1.5.0",
            "_view_name": "HBoxView",
            "box_style": "",
            "children": [
              "IPY_MODEL_c27849d2393d4d0f8ec774f87ea2aa84",
              "IPY_MODEL_01d309af5a1747c0b487137cf0fd1f9b",
              "IPY_MODEL_fa0d5814fea54abf9bdcef0c53daa055"
            ],
            "layout": "IPY_MODEL_faa1856e01bc4feda46591d62644bd3e"
          }
        },
        "c27849d2393d4d0f8ec774f87ea2aa84": {
          "model_module": "@jupyter-widgets/controls",
          "model_name": "HTMLModel",
          "model_module_version": "1.5.0",
          "state": {
            "_dom_classes": [],
            "_model_module": "@jupyter-widgets/controls",
            "_model_module_version": "1.5.0",
            "_model_name": "HTMLModel",
            "_view_count": null,
            "_view_module": "@jupyter-widgets/controls",
            "_view_module_version": "1.5.0",
            "_view_name": "HTMLView",
            "description": "",
            "description_tooltip": null,
            "layout": "IPY_MODEL_c8ff599e08a3455685aee62ae4ab0347",
            "placeholder": "​",
            "style": "IPY_MODEL_84832dc4c08c4b74be6d1aa7b6bbea97",
            "value": "Loading checkpoint shards: 100%"
          }
        },
        "01d309af5a1747c0b487137cf0fd1f9b": {
          "model_module": "@jupyter-widgets/controls",
          "model_name": "FloatProgressModel",
          "model_module_version": "1.5.0",
          "state": {
            "_dom_classes": [],
            "_model_module": "@jupyter-widgets/controls",
            "_model_module_version": "1.5.0",
            "_model_name": "FloatProgressModel",
            "_view_count": null,
            "_view_module": "@jupyter-widgets/controls",
            "_view_module_version": "1.5.0",
            "_view_name": "ProgressView",
            "bar_style": "success",
            "description": "",
            "description_tooltip": null,
            "layout": "IPY_MODEL_362d95cd55104b41ad48cc6b9872b823",
            "max": 2,
            "min": 0,
            "orientation": "horizontal",
            "style": "IPY_MODEL_fddcf54132a147f09c13f7f8e71ea9cf",
            "value": 2
          }
        },
        "fa0d5814fea54abf9bdcef0c53daa055": {
          "model_module": "@jupyter-widgets/controls",
          "model_name": "HTMLModel",
          "model_module_version": "1.5.0",
          "state": {
            "_dom_classes": [],
            "_model_module": "@jupyter-widgets/controls",
            "_model_module_version": "1.5.0",
            "_model_name": "HTMLModel",
            "_view_count": null,
            "_view_module": "@jupyter-widgets/controls",
            "_view_module_version": "1.5.0",
            "_view_name": "HTMLView",
            "description": "",
            "description_tooltip": null,
            "layout": "IPY_MODEL_9e8bf288814045668b65b79d63430b44",
            "placeholder": "​",
            "style": "IPY_MODEL_1b36436ddcce4e518cfdc9e3a91bf3a2",
            "value": " 2/2 [00:23&lt;00:00, 10.24s/it]"
          }
        },
        "faa1856e01bc4feda46591d62644bd3e": {
          "model_module": "@jupyter-widgets/base",
          "model_name": "LayoutModel",
          "model_module_version": "1.2.0",
          "state": {
            "_model_module": "@jupyter-widgets/base",
            "_model_module_version": "1.2.0",
            "_model_name": "LayoutModel",
            "_view_count": null,
            "_view_module": "@jupyter-widgets/base",
            "_view_module_version": "1.2.0",
            "_view_name": "LayoutView",
            "align_content": null,
            "align_items": null,
            "align_self": null,
            "border": null,
            "bottom": null,
            "display": null,
            "flex": null,
            "flex_flow": null,
            "grid_area": null,
            "grid_auto_columns": null,
            "grid_auto_flow": null,
            "grid_auto_rows": null,
            "grid_column": null,
            "grid_gap": null,
            "grid_row": null,
            "grid_template_areas": null,
            "grid_template_columns": null,
            "grid_template_rows": null,
            "height": null,
            "justify_content": null,
            "justify_items": null,
            "left": null,
            "margin": null,
            "max_height": null,
            "max_width": null,
            "min_height": null,
            "min_width": null,
            "object_fit": null,
            "object_position": null,
            "order": null,
            "overflow": null,
            "overflow_x": null,
            "overflow_y": null,
            "padding": null,
            "right": null,
            "top": null,
            "visibility": null,
            "width": null
          }
        },
        "c8ff599e08a3455685aee62ae4ab0347": {
          "model_module": "@jupyter-widgets/base",
          "model_name": "LayoutModel",
          "model_module_version": "1.2.0",
          "state": {
            "_model_module": "@jupyter-widgets/base",
            "_model_module_version": "1.2.0",
            "_model_name": "LayoutModel",
            "_view_count": null,
            "_view_module": "@jupyter-widgets/base",
            "_view_module_version": "1.2.0",
            "_view_name": "LayoutView",
            "align_content": null,
            "align_items": null,
            "align_self": null,
            "border": null,
            "bottom": null,
            "display": null,
            "flex": null,
            "flex_flow": null,
            "grid_area": null,
            "grid_auto_columns": null,
            "grid_auto_flow": null,
            "grid_auto_rows": null,
            "grid_column": null,
            "grid_gap": null,
            "grid_row": null,
            "grid_template_areas": null,
            "grid_template_columns": null,
            "grid_template_rows": null,
            "height": null,
            "justify_content": null,
            "justify_items": null,
            "left": null,
            "margin": null,
            "max_height": null,
            "max_width": null,
            "min_height": null,
            "min_width": null,
            "object_fit": null,
            "object_position": null,
            "order": null,
            "overflow": null,
            "overflow_x": null,
            "overflow_y": null,
            "padding": null,
            "right": null,
            "top": null,
            "visibility": null,
            "width": null
          }
        },
        "84832dc4c08c4b74be6d1aa7b6bbea97": {
          "model_module": "@jupyter-widgets/controls",
          "model_name": "DescriptionStyleModel",
          "model_module_version": "1.5.0",
          "state": {
            "_model_module": "@jupyter-widgets/controls",
            "_model_module_version": "1.5.0",
            "_model_name": "DescriptionStyleModel",
            "_view_count": null,
            "_view_module": "@jupyter-widgets/base",
            "_view_module_version": "1.2.0",
            "_view_name": "StyleView",
            "description_width": ""
          }
        },
        "362d95cd55104b41ad48cc6b9872b823": {
          "model_module": "@jupyter-widgets/base",
          "model_name": "LayoutModel",
          "model_module_version": "1.2.0",
          "state": {
            "_model_module": "@jupyter-widgets/base",
            "_model_module_version": "1.2.0",
            "_model_name": "LayoutModel",
            "_view_count": null,
            "_view_module": "@jupyter-widgets/base",
            "_view_module_version": "1.2.0",
            "_view_name": "LayoutView",
            "align_content": null,
            "align_items": null,
            "align_self": null,
            "border": null,
            "bottom": null,
            "display": null,
            "flex": null,
            "flex_flow": null,
            "grid_area": null,
            "grid_auto_columns": null,
            "grid_auto_flow": null,
            "grid_auto_rows": null,
            "grid_column": null,
            "grid_gap": null,
            "grid_row": null,
            "grid_template_areas": null,
            "grid_template_columns": null,
            "grid_template_rows": null,
            "height": null,
            "justify_content": null,
            "justify_items": null,
            "left": null,
            "margin": null,
            "max_height": null,
            "max_width": null,
            "min_height": null,
            "min_width": null,
            "object_fit": null,
            "object_position": null,
            "order": null,
            "overflow": null,
            "overflow_x": null,
            "overflow_y": null,
            "padding": null,
            "right": null,
            "top": null,
            "visibility": null,
            "width": null
          }
        },
        "fddcf54132a147f09c13f7f8e71ea9cf": {
          "model_module": "@jupyter-widgets/controls",
          "model_name": "ProgressStyleModel",
          "model_module_version": "1.5.0",
          "state": {
            "_model_module": "@jupyter-widgets/controls",
            "_model_module_version": "1.5.0",
            "_model_name": "ProgressStyleModel",
            "_view_count": null,
            "_view_module": "@jupyter-widgets/base",
            "_view_module_version": "1.2.0",
            "_view_name": "StyleView",
            "bar_color": null,
            "description_width": ""
          }
        },
        "9e8bf288814045668b65b79d63430b44": {
          "model_module": "@jupyter-widgets/base",
          "model_name": "LayoutModel",
          "model_module_version": "1.2.0",
          "state": {
            "_model_module": "@jupyter-widgets/base",
            "_model_module_version": "1.2.0",
            "_model_name": "LayoutModel",
            "_view_count": null,
            "_view_module": "@jupyter-widgets/base",
            "_view_module_version": "1.2.0",
            "_view_name": "LayoutView",
            "align_content": null,
            "align_items": null,
            "align_self": null,
            "border": null,
            "bottom": null,
            "display": null,
            "flex": null,
            "flex_flow": null,
            "grid_area": null,
            "grid_auto_columns": null,
            "grid_auto_flow": null,
            "grid_auto_rows": null,
            "grid_column": null,
            "grid_gap": null,
            "grid_row": null,
            "grid_template_areas": null,
            "grid_template_columns": null,
            "grid_template_rows": null,
            "height": null,
            "justify_content": null,
            "justify_items": null,
            "left": null,
            "margin": null,
            "max_height": null,
            "max_width": null,
            "min_height": null,
            "min_width": null,
            "object_fit": null,
            "object_position": null,
            "order": null,
            "overflow": null,
            "overflow_x": null,
            "overflow_y": null,
            "padding": null,
            "right": null,
            "top": null,
            "visibility": null,
            "width": null
          }
        },
        "1b36436ddcce4e518cfdc9e3a91bf3a2": {
          "model_module": "@jupyter-widgets/controls",
          "model_name": "DescriptionStyleModel",
          "model_module_version": "1.5.0",
          "state": {
            "_model_module": "@jupyter-widgets/controls",
            "_model_module_version": "1.5.0",
            "_model_name": "DescriptionStyleModel",
            "_view_count": null,
            "_view_module": "@jupyter-widgets/base",
            "_view_module_version": "1.2.0",
            "_view_name": "StyleView",
            "description_width": ""
          }
        },
        "72e99bf1f3c640c8a053809ba2de35f5": {
          "model_module": "@jupyter-widgets/controls",
          "model_name": "HBoxModel",
          "model_module_version": "1.5.0",
          "state": {
            "_dom_classes": [],
            "_model_module": "@jupyter-widgets/controls",
            "_model_module_version": "1.5.0",
            "_model_name": "HBoxModel",
            "_view_count": null,
            "_view_module": "@jupyter-widgets/controls",
            "_view_module_version": "1.5.0",
            "_view_name": "HBoxView",
            "box_style": "",
            "children": [
              "IPY_MODEL_3239e1a3973843d6873364d1e4c37467",
              "IPY_MODEL_32037e22986b4bb2a72d68454d20f62e",
              "IPY_MODEL_9d9e434f2177473785c0082d96230d97"
            ],
            "layout": "IPY_MODEL_c5b7c15bb9e64946a62149a7e2857c42"
          }
        },
        "3239e1a3973843d6873364d1e4c37467": {
          "model_module": "@jupyter-widgets/controls",
          "model_name": "HTMLModel",
          "model_module_version": "1.5.0",
          "state": {
            "_dom_classes": [],
            "_model_module": "@jupyter-widgets/controls",
            "_model_module_version": "1.5.0",
            "_model_name": "HTMLModel",
            "_view_count": null,
            "_view_module": "@jupyter-widgets/controls",
            "_view_module_version": "1.5.0",
            "_view_name": "HTMLView",
            "description": "",
            "description_tooltip": null,
            "layout": "IPY_MODEL_12899fa933fd4c94aaab6bc7ded9f577",
            "placeholder": "​",
            "style": "IPY_MODEL_05e7ee05b9814b1685810efe6b1b4f43",
            "value": "Map: 100%"
          }
        },
        "32037e22986b4bb2a72d68454d20f62e": {
          "model_module": "@jupyter-widgets/controls",
          "model_name": "FloatProgressModel",
          "model_module_version": "1.5.0",
          "state": {
            "_dom_classes": [],
            "_model_module": "@jupyter-widgets/controls",
            "_model_module_version": "1.5.0",
            "_model_name": "FloatProgressModel",
            "_view_count": null,
            "_view_module": "@jupyter-widgets/controls",
            "_view_module_version": "1.5.0",
            "_view_name": "ProgressView",
            "bar_style": "success",
            "description": "",
            "description_tooltip": null,
            "layout": "IPY_MODEL_9cad27a67af84f85b512d39f50222bf0",
            "max": 500,
            "min": 0,
            "orientation": "horizontal",
            "style": "IPY_MODEL_1be69b855cde409b9b6688dcb3c28c22",
            "value": 500
          }
        },
        "9d9e434f2177473785c0082d96230d97": {
          "model_module": "@jupyter-widgets/controls",
          "model_name": "HTMLModel",
          "model_module_version": "1.5.0",
          "state": {
            "_dom_classes": [],
            "_model_module": "@jupyter-widgets/controls",
            "_model_module_version": "1.5.0",
            "_model_name": "HTMLModel",
            "_view_count": null,
            "_view_module": "@jupyter-widgets/controls",
            "_view_module_version": "1.5.0",
            "_view_name": "HTMLView",
            "description": "",
            "description_tooltip": null,
            "layout": "IPY_MODEL_52f4ff7bb0ae4c8f919f0de2ffca9068",
            "placeholder": "​",
            "style": "IPY_MODEL_b8c07611d76d46c0ba7ca9fb427f8beb",
            "value": " 500/500 [00:02&lt;00:00, 164.50 examples/s]"
          }
        },
        "c5b7c15bb9e64946a62149a7e2857c42": {
          "model_module": "@jupyter-widgets/base",
          "model_name": "LayoutModel",
          "model_module_version": "1.2.0",
          "state": {
            "_model_module": "@jupyter-widgets/base",
            "_model_module_version": "1.2.0",
            "_model_name": "LayoutModel",
            "_view_count": null,
            "_view_module": "@jupyter-widgets/base",
            "_view_module_version": "1.2.0",
            "_view_name": "LayoutView",
            "align_content": null,
            "align_items": null,
            "align_self": null,
            "border": null,
            "bottom": null,
            "display": null,
            "flex": null,
            "flex_flow": null,
            "grid_area": null,
            "grid_auto_columns": null,
            "grid_auto_flow": null,
            "grid_auto_rows": null,
            "grid_column": null,
            "grid_gap": null,
            "grid_row": null,
            "grid_template_areas": null,
            "grid_template_columns": null,
            "grid_template_rows": null,
            "height": null,
            "justify_content": null,
            "justify_items": null,
            "left": null,
            "margin": null,
            "max_height": null,
            "max_width": null,
            "min_height": null,
            "min_width": null,
            "object_fit": null,
            "object_position": null,
            "order": null,
            "overflow": null,
            "overflow_x": null,
            "overflow_y": null,
            "padding": null,
            "right": null,
            "top": null,
            "visibility": null,
            "width": null
          }
        },
        "12899fa933fd4c94aaab6bc7ded9f577": {
          "model_module": "@jupyter-widgets/base",
          "model_name": "LayoutModel",
          "model_module_version": "1.2.0",
          "state": {
            "_model_module": "@jupyter-widgets/base",
            "_model_module_version": "1.2.0",
            "_model_name": "LayoutModel",
            "_view_count": null,
            "_view_module": "@jupyter-widgets/base",
            "_view_module_version": "1.2.0",
            "_view_name": "LayoutView",
            "align_content": null,
            "align_items": null,
            "align_self": null,
            "border": null,
            "bottom": null,
            "display": null,
            "flex": null,
            "flex_flow": null,
            "grid_area": null,
            "grid_auto_columns": null,
            "grid_auto_flow": null,
            "grid_auto_rows": null,
            "grid_column": null,
            "grid_gap": null,
            "grid_row": null,
            "grid_template_areas": null,
            "grid_template_columns": null,
            "grid_template_rows": null,
            "height": null,
            "justify_content": null,
            "justify_items": null,
            "left": null,
            "margin": null,
            "max_height": null,
            "max_width": null,
            "min_height": null,
            "min_width": null,
            "object_fit": null,
            "object_position": null,
            "order": null,
            "overflow": null,
            "overflow_x": null,
            "overflow_y": null,
            "padding": null,
            "right": null,
            "top": null,
            "visibility": null,
            "width": null
          }
        },
        "05e7ee05b9814b1685810efe6b1b4f43": {
          "model_module": "@jupyter-widgets/controls",
          "model_name": "DescriptionStyleModel",
          "model_module_version": "1.5.0",
          "state": {
            "_model_module": "@jupyter-widgets/controls",
            "_model_module_version": "1.5.0",
            "_model_name": "DescriptionStyleModel",
            "_view_count": null,
            "_view_module": "@jupyter-widgets/base",
            "_view_module_version": "1.2.0",
            "_view_name": "StyleView",
            "description_width": ""
          }
        },
        "9cad27a67af84f85b512d39f50222bf0": {
          "model_module": "@jupyter-widgets/base",
          "model_name": "LayoutModel",
          "model_module_version": "1.2.0",
          "state": {
            "_model_module": "@jupyter-widgets/base",
            "_model_module_version": "1.2.0",
            "_model_name": "LayoutModel",
            "_view_count": null,
            "_view_module": "@jupyter-widgets/base",
            "_view_module_version": "1.2.0",
            "_view_name": "LayoutView",
            "align_content": null,
            "align_items": null,
            "align_self": null,
            "border": null,
            "bottom": null,
            "display": null,
            "flex": null,
            "flex_flow": null,
            "grid_area": null,
            "grid_auto_columns": null,
            "grid_auto_flow": null,
            "grid_auto_rows": null,
            "grid_column": null,
            "grid_gap": null,
            "grid_row": null,
            "grid_template_areas": null,
            "grid_template_columns": null,
            "grid_template_rows": null,
            "height": null,
            "justify_content": null,
            "justify_items": null,
            "left": null,
            "margin": null,
            "max_height": null,
            "max_width": null,
            "min_height": null,
            "min_width": null,
            "object_fit": null,
            "object_position": null,
            "order": null,
            "overflow": null,
            "overflow_x": null,
            "overflow_y": null,
            "padding": null,
            "right": null,
            "top": null,
            "visibility": null,
            "width": null
          }
        },
        "1be69b855cde409b9b6688dcb3c28c22": {
          "model_module": "@jupyter-widgets/controls",
          "model_name": "ProgressStyleModel",
          "model_module_version": "1.5.0",
          "state": {
            "_model_module": "@jupyter-widgets/controls",
            "_model_module_version": "1.5.0",
            "_model_name": "ProgressStyleModel",
            "_view_count": null,
            "_view_module": "@jupyter-widgets/base",
            "_view_module_version": "1.2.0",
            "_view_name": "StyleView",
            "bar_color": null,
            "description_width": ""
          }
        },
        "52f4ff7bb0ae4c8f919f0de2ffca9068": {
          "model_module": "@jupyter-widgets/base",
          "model_name": "LayoutModel",
          "model_module_version": "1.2.0",
          "state": {
            "_model_module": "@jupyter-widgets/base",
            "_model_module_version": "1.2.0",
            "_model_name": "LayoutModel",
            "_view_count": null,
            "_view_module": "@jupyter-widgets/base",
            "_view_module_version": "1.2.0",
            "_view_name": "LayoutView",
            "align_content": null,
            "align_items": null,
            "align_self": null,
            "border": null,
            "bottom": null,
            "display": null,
            "flex": null,
            "flex_flow": null,
            "grid_area": null,
            "grid_auto_columns": null,
            "grid_auto_flow": null,
            "grid_auto_rows": null,
            "grid_column": null,
            "grid_gap": null,
            "grid_row": null,
            "grid_template_areas": null,
            "grid_template_columns": null,
            "grid_template_rows": null,
            "height": null,
            "justify_content": null,
            "justify_items": null,
            "left": null,
            "margin": null,
            "max_height": null,
            "max_width": null,
            "min_height": null,
            "min_width": null,
            "object_fit": null,
            "object_position": null,
            "order": null,
            "overflow": null,
            "overflow_x": null,
            "overflow_y": null,
            "padding": null,
            "right": null,
            "top": null,
            "visibility": null,
            "width": null
          }
        },
        "b8c07611d76d46c0ba7ca9fb427f8beb": {
          "model_module": "@jupyter-widgets/controls",
          "model_name": "DescriptionStyleModel",
          "model_module_version": "1.5.0",
          "state": {
            "_model_module": "@jupyter-widgets/controls",
            "_model_module_version": "1.5.0",
            "_model_name": "DescriptionStyleModel",
            "_view_count": null,
            "_view_module": "@jupyter-widgets/base",
            "_view_module_version": "1.2.0",
            "_view_name": "StyleView",
            "description_width": ""
          }
        }
      }
    }
  },
  "nbformat": 4,
  "nbformat_minor": 0
}